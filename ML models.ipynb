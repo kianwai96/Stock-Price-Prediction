{
 "cells": [
  {
   "cell_type": "code",
   "execution_count": 31,
   "metadata": {},
   "outputs": [],
   "source": [
    "import mysql.connector as connector\n",
    "import sklearn"
   ]
  },
  {
   "cell_type": "code",
   "execution_count": 32,
   "metadata": {},
   "outputs": [],
   "source": [
    "conn = connector.connect(user='root', password='123456', host='localhost', port='3306', database='my_db')\n",
    "\n",
    "mycursor = conn.cursor()"
   ]
  },
  {
   "cell_type": "code",
   "execution_count": 33,
   "metadata": {},
   "outputs": [],
   "source": [
    "mycursor.execute('show tables')\n",
    "\n",
    "result =  mycursor.fetchall()\n"
   ]
  },
  {
   "cell_type": "code",
   "execution_count": 34,
   "metadata": {},
   "outputs": [
    {
     "data": {
      "text/plain": [
       "[('price_sentiment',), ('stock_price',), ('user',)]"
      ]
     },
     "execution_count": 34,
     "metadata": {},
     "output_type": "execute_result"
    }
   ],
   "source": [
    "result"
   ]
  },
  {
   "cell_type": "code",
   "execution_count": 35,
   "metadata": {},
   "outputs": [],
   "source": [
    "import pandas as pd\n",
    "\n",
    "mycursor.execute('SELECT * FROM price_sentiment')\n",
    "result = mycursor.fetchall()\n",
    "df = pd.DataFrame(result, columns = ['Date', 'Open', 'High', 'Low', 'Close', 'Volume', 'Dividends', 'Stock_Splits', 'Score', 'Positive' , 'Negative', 'Neutral', 'Total_Sentiment'])"
   ]
  },
  {
   "cell_type": "code",
   "execution_count": 36,
   "metadata": {},
   "outputs": [],
   "source": [
    "df.set_index('Date', drop = True, inplace=True)"
   ]
  },
  {
   "cell_type": "code",
   "execution_count": 37,
   "metadata": {},
   "outputs": [],
   "source": [
    "date = df.index"
   ]
  },
  {
   "cell_type": "code",
   "execution_count": 38,
   "metadata": {},
   "outputs": [],
   "source": [
    "df.drop(['Open', 'High', 'Low', 'Dividends', 'Stock_Splits', 'Score', 'Positive',\t'Negative',\t'Neutral'], inplace=True, axis=1)"
   ]
  },
  {
   "cell_type": "code",
   "execution_count": 39,
   "metadata": {},
   "outputs": [
    {
     "data": {
      "text/html": [
       "<div>\n",
       "<style scoped>\n",
       "    .dataframe tbody tr th:only-of-type {\n",
       "        vertical-align: middle;\n",
       "    }\n",
       "\n",
       "    .dataframe tbody tr th {\n",
       "        vertical-align: top;\n",
       "    }\n",
       "\n",
       "    .dataframe thead th {\n",
       "        text-align: right;\n",
       "    }\n",
       "</style>\n",
       "<table border=\"1\" class=\"dataframe\">\n",
       "  <thead>\n",
       "    <tr style=\"text-align: right;\">\n",
       "      <th></th>\n",
       "      <th>Close</th>\n",
       "      <th>Volume</th>\n",
       "      <th>Total_Sentiment</th>\n",
       "    </tr>\n",
       "    <tr>\n",
       "      <th>Date</th>\n",
       "      <th></th>\n",
       "      <th></th>\n",
       "      <th></th>\n",
       "    </tr>\n",
       "  </thead>\n",
       "  <tbody>\n",
       "    <tr>\n",
       "      <th>2014-01-06</th>\n",
       "      <td>0.374438</td>\n",
       "      <td>409492000.0</td>\n",
       "      <td>0.00000</td>\n",
       "    </tr>\n",
       "    <tr>\n",
       "      <th>2014-04-23</th>\n",
       "      <td>0.452159</td>\n",
       "      <td>261580000.0</td>\n",
       "      <td>-1.00000</td>\n",
       "    </tr>\n",
       "    <tr>\n",
       "      <th>2015-06-01</th>\n",
       "      <td>0.541710</td>\n",
       "      <td>372660000.0</td>\n",
       "      <td>0.00000</td>\n",
       "    </tr>\n",
       "    <tr>\n",
       "      <th>2016-01-05</th>\n",
       "      <td>0.802491</td>\n",
       "      <td>490272000.0</td>\n",
       "      <td>1.00000</td>\n",
       "    </tr>\n",
       "    <tr>\n",
       "      <th>2016-09-28</th>\n",
       "      <td>1.642590</td>\n",
       "      <td>319788000.0</td>\n",
       "      <td>0.00000</td>\n",
       "    </tr>\n",
       "    <tr>\n",
       "      <th>...</th>\n",
       "      <td>...</td>\n",
       "      <td>...</td>\n",
       "      <td>...</td>\n",
       "    </tr>\n",
       "    <tr>\n",
       "      <th>2025-02-10</th>\n",
       "      <td>133.570000</td>\n",
       "      <td>216989000.0</td>\n",
       "      <td>5.84000</td>\n",
       "    </tr>\n",
       "    <tr>\n",
       "      <th>2025-02-11</th>\n",
       "      <td>132.800000</td>\n",
       "      <td>178902000.0</td>\n",
       "      <td>3.90909</td>\n",
       "    </tr>\n",
       "    <tr>\n",
       "      <th>2025-02-12</th>\n",
       "      <td>131.140000</td>\n",
       "      <td>160279000.0</td>\n",
       "      <td>4.76471</td>\n",
       "    </tr>\n",
       "    <tr>\n",
       "      <th>2025-02-13</th>\n",
       "      <td>135.290000</td>\n",
       "      <td>197430000.0</td>\n",
       "      <td>9.86364</td>\n",
       "    </tr>\n",
       "    <tr>\n",
       "      <th>2025-02-14</th>\n",
       "      <td>138.850000</td>\n",
       "      <td>194892000.0</td>\n",
       "      <td>5.92857</td>\n",
       "    </tr>\n",
       "  </tbody>\n",
       "</table>\n",
       "<p>7938 rows × 3 columns</p>\n",
       "</div>"
      ],
      "text/plain": [
       "                 Close       Volume  Total_Sentiment\n",
       "Date                                                \n",
       "2014-01-06    0.374438  409492000.0          0.00000\n",
       "2014-04-23    0.452159  261580000.0         -1.00000\n",
       "2015-06-01    0.541710  372660000.0          0.00000\n",
       "2016-01-05    0.802491  490272000.0          1.00000\n",
       "2016-09-28    1.642590  319788000.0          0.00000\n",
       "...                ...          ...              ...\n",
       "2025-02-10  133.570000  216989000.0          5.84000\n",
       "2025-02-11  132.800000  178902000.0          3.90909\n",
       "2025-02-12  131.140000  160279000.0          4.76471\n",
       "2025-02-13  135.290000  197430000.0          9.86364\n",
       "2025-02-14  138.850000  194892000.0          5.92857\n",
       "\n",
       "[7938 rows x 3 columns]"
      ]
     },
     "execution_count": 39,
     "metadata": {},
     "output_type": "execute_result"
    }
   ],
   "source": [
    "df"
   ]
  },
  {
   "cell_type": "code",
   "execution_count": 40,
   "metadata": {},
   "outputs": [],
   "source": [
    "df['Close'] = df['Close'].shift(-1)"
   ]
  },
  {
   "cell_type": "code",
   "execution_count": 41,
   "metadata": {},
   "outputs": [],
   "source": [
    "df.dropna(inplace=True)"
   ]
  },
  {
   "cell_type": "code",
   "execution_count": 42,
   "metadata": {},
   "outputs": [],
   "source": [
    "from sklearn.preprocessing import MinMaxScaler\n",
    "\n",
    "df_columns = df.columns\n",
    "scaler = MinMaxScaler()\n",
    "\n",
    "df_transformed = scaler.fit_transform(df)\n"
   ]
  },
  {
   "cell_type": "code",
   "execution_count": 43,
   "metadata": {},
   "outputs": [
    {
     "data": {
      "text/html": [
       "<div>\n",
       "<style scoped>\n",
       "    .dataframe tbody tr th:only-of-type {\n",
       "        vertical-align: middle;\n",
       "    }\n",
       "\n",
       "    .dataframe tbody tr th {\n",
       "        vertical-align: top;\n",
       "    }\n",
       "\n",
       "    .dataframe thead th {\n",
       "        text-align: right;\n",
       "    }\n",
       "</style>\n",
       "<table border=\"1\" class=\"dataframe\">\n",
       "  <thead>\n",
       "    <tr style=\"text-align: right;\">\n",
       "      <th></th>\n",
       "      <th>Close</th>\n",
       "      <th>Volume</th>\n",
       "      <th>Total_Sentiment</th>\n",
       "    </tr>\n",
       "  </thead>\n",
       "  <tbody>\n",
       "    <tr>\n",
       "      <th>0</th>\n",
       "      <td>0.000521</td>\n",
       "      <td>0.098819</td>\n",
       "      <td>0.029484</td>\n",
       "    </tr>\n",
       "    <tr>\n",
       "      <th>1</th>\n",
       "      <td>0.001122</td>\n",
       "      <td>0.058223</td>\n",
       "      <td>0.000000</td>\n",
       "    </tr>\n",
       "    <tr>\n",
       "      <th>2</th>\n",
       "      <td>0.002872</td>\n",
       "      <td>0.088710</td>\n",
       "      <td>0.029484</td>\n",
       "    </tr>\n",
       "    <tr>\n",
       "      <th>3</th>\n",
       "      <td>0.008508</td>\n",
       "      <td>0.120991</td>\n",
       "      <td>0.058968</td>\n",
       "    </tr>\n",
       "    <tr>\n",
       "      <th>4</th>\n",
       "      <td>0.008610</td>\n",
       "      <td>0.074199</td>\n",
       "      <td>0.029484</td>\n",
       "    </tr>\n",
       "    <tr>\n",
       "      <th>...</th>\n",
       "      <td>...</td>\n",
       "      <td>...</td>\n",
       "      <td>...</td>\n",
       "    </tr>\n",
       "    <tr>\n",
       "      <th>7932</th>\n",
       "      <td>0.893597</td>\n",
       "      <td>0.049058</td>\n",
       "      <td>0.079607</td>\n",
       "    </tr>\n",
       "    <tr>\n",
       "      <th>7933</th>\n",
       "      <td>0.888431</td>\n",
       "      <td>0.045985</td>\n",
       "      <td>0.201671</td>\n",
       "    </tr>\n",
       "    <tr>\n",
       "      <th>7934</th>\n",
       "      <td>0.877294</td>\n",
       "      <td>0.035531</td>\n",
       "      <td>0.144740</td>\n",
       "    </tr>\n",
       "    <tr>\n",
       "      <th>7935</th>\n",
       "      <td>0.905136</td>\n",
       "      <td>0.030420</td>\n",
       "      <td>0.169967</td>\n",
       "    </tr>\n",
       "    <tr>\n",
       "      <th>7936</th>\n",
       "      <td>0.929020</td>\n",
       "      <td>0.040616</td>\n",
       "      <td>0.320304</td>\n",
       "    </tr>\n",
       "  </tbody>\n",
       "</table>\n",
       "<p>7937 rows × 3 columns</p>\n",
       "</div>"
      ],
      "text/plain": [
       "         Close    Volume  Total_Sentiment\n",
       "0     0.000521  0.098819         0.029484\n",
       "1     0.001122  0.058223         0.000000\n",
       "2     0.002872  0.088710         0.029484\n",
       "3     0.008508  0.120991         0.058968\n",
       "4     0.008610  0.074199         0.029484\n",
       "...        ...       ...              ...\n",
       "7932  0.893597  0.049058         0.079607\n",
       "7933  0.888431  0.045985         0.201671\n",
       "7934  0.877294  0.035531         0.144740\n",
       "7935  0.905136  0.030420         0.169967\n",
       "7936  0.929020  0.040616         0.320304\n",
       "\n",
       "[7937 rows x 3 columns]"
      ]
     },
     "execution_count": 43,
     "metadata": {},
     "output_type": "execute_result"
    }
   ],
   "source": [
    "df_transformed = pd.DataFrame(df_transformed)\n",
    "\n",
    "df_transformed.columns = df_columns\n",
    "\n",
    "df_transformed"
   ]
  },
  {
   "cell_type": "code",
   "execution_count": 44,
   "metadata": {},
   "outputs": [],
   "source": [
    "def traintest(data):\n",
    "\n",
    "    #X = data.drop(columns=['Close'], axis = 1)\n",
    "    X= data.drop(['Close'],axis=1)\n",
    "    Y = data['Close']\n",
    "    \n",
    "    X_train = X.iloc[0:int(0.7*len(X))]\n",
    "    Y_train = Y.iloc[int(len(X))-int(0.7*len(X)):int(len(Y))]\n",
    "    X_test = X.iloc[0:int(0.7*len(X))]\n",
    "    Y_test = Y.iloc[int(len(X))-int(0.7*len(X)):int(len(Y))]\n",
    "\n",
    "    \n",
    "\n",
    "    return X_train, X_test, Y_train,Y_test\n"
   ]
  },
  {
   "cell_type": "code",
   "execution_count": 45,
   "metadata": {},
   "outputs": [],
   "source": [
    "from sklearn.linear_model import LinearRegression\n",
    "\n",
    "X_train, X_test, Y_train,Y_test = traintest(df_transformed)\n",
    "\n",
    "model=LinearRegression()\n",
    "\n",
    "model.fit(X_train, Y_train)\n",
    "\n",
    "y_pred = model.predict(X_test)"
   ]
  },
  {
   "cell_type": "code",
   "execution_count": 46,
   "metadata": {},
   "outputs": [
    {
     "name": "stdout",
     "output_type": "stream",
     "text": [
      "0.05473315331364703\n"
     ]
    }
   ],
   "source": [
    "r2 = sklearn.metrics.r2_score(Y_test, y_pred)\n",
    "print(r2)\n"
   ]
  },
  {
   "cell_type": "code",
   "execution_count": 47,
   "metadata": {},
   "outputs": [
    {
     "data": {
      "text/plain": [
       "<matplotlib.collections.PathCollection at 0x1f87cd2f460>"
      ]
     },
     "execution_count": 47,
     "metadata": {},
     "output_type": "execute_result"
    },
    {
     "data": {
      "image/png": "[encoded data removed]",
      "text/plain": [
       "<Figure size 640x480 with 1 Axes>"
      ]
     },
     "metadata": {},
     "output_type": "display_data"
    }
   ],
   "source": [
    "import matplotlib.pyplot as plt\n",
    "\n",
    "plt.scatter(Y_test, y_pred)"
   ]
  },
  {
   "cell_type": "code",
   "execution_count": 48,
   "metadata": {},
   "outputs": [
    {
     "data": {
      "text/plain": [
       "<Axes: >"
      ]
     },
     "execution_count": 48,
     "metadata": {},
     "output_type": "execute_result"
    },
    {
     "data": {
      "image/png": "[encoded data removed]",
      "text/plain": [
       "<Figure size 640x480 with 2 Axes>"
      ]
     },
     "metadata": {},
     "output_type": "display_data"
    }
   ],
   "source": [
    "import seaborn as sns \n",
    "\n",
    "sns.heatmap(df.corr(), annot= True)"
   ]
  },
  {
   "cell_type": "code",
   "execution_count": 49,
   "metadata": {},
   "outputs": [],
   "source": [
    "from sklearn.model_selection import GridSearchCV, cross_val_score\n",
    "from sklearn.pipeline import Pipeline\n",
    "\n",
    "from sklearn.preprocessing import PolynomialFeatures"
   ]
  },
  {
   "cell_type": "code",
   "execution_count": 50,
   "metadata": {},
   "outputs": [],
   "source": [
    "pipeline = Pipeline([\n",
    "    ('poly', PolynomialFeatures()),  \n",
    "    ('model', LinearRegression())\n",
    "])\n",
    "\n",
    "param_grid = {\n",
    "    'poly__degree': [1, 2, 3, 4, 5, 6],\n",
    "    'model__fit_intercept': [True, False]\n",
    "}"
   ]
  },
  {
   "cell_type": "code",
   "execution_count": 51,
   "metadata": {},
   "outputs": [],
   "source": [
    "X = df.drop('Close', axis=1)\n",
    "\n",
    "Y= df['Close']"
   ]
  },
  {
   "cell_type": "code",
   "execution_count": 52,
   "metadata": {},
   "outputs": [
    {
     "name": "stdout",
     "output_type": "stream",
     "text": [
      "Best Polynomial Degree: 1\n",
      "Best R² Score: 0.2655\n"
     ]
    }
   ],
   "source": [
    "# 🔹 Perform Grid Search\n",
    "grid_search = GridSearchCV(\n",
    "    pipeline, param_grid, cv=5, scoring='r2', n_jobs=-1  # Using R² as the metric\n",
    ")\n",
    "\n",
    "grid_search.fit(X, Y)  # Flatten Y to 1D array\n",
    "\n",
    "print(f\"Best Polynomial Degree: {grid_search.best_params_['poly__degree']}\")\n",
    "print(f\"Best R² Score: {grid_search.best_score_:.4f}\")"
   ]
  },
  {
   "cell_type": "markdown",
   "metadata": {},
   "source": [
    "## Decision Tree"
   ]
  },
  {
   "cell_type": "code",
   "execution_count": 53,
   "metadata": {},
   "outputs": [
    {
     "name": "stdout",
     "output_type": "stream",
     "text": [
      "0.957324790495076\n"
     ]
    }
   ],
   "source": [
    "from sklearn.tree import DecisionTreeRegressor\n",
    "\n",
    "dt = DecisionTreeRegressor()\n",
    "\n",
    "dt.fit(X_train, Y_train)\n",
    "\n",
    "y_pred = dt.predict(X_test)\n",
    "\n",
    "r2 = sklearn.metrics.r2_score(Y_test, y_pred)\n",
    "\n",
    "print(r2)"
   ]
  },
  {
   "cell_type": "code",
   "execution_count": 54,
   "metadata": {},
   "outputs": [
    {
     "data": {
      "text/html": [
       "<div>\n",
       "<style scoped>\n",
       "    .dataframe tbody tr th:only-of-type {\n",
       "        vertical-align: middle;\n",
       "    }\n",
       "\n",
       "    .dataframe tbody tr th {\n",
       "        vertical-align: top;\n",
       "    }\n",
       "\n",
       "    .dataframe thead th {\n",
       "        text-align: right;\n",
       "    }\n",
       "</style>\n",
       "<table border=\"1\" class=\"dataframe\">\n",
       "  <thead>\n",
       "    <tr style=\"text-align: right;\">\n",
       "      <th></th>\n",
       "      <th>Close</th>\n",
       "      <th>Volume</th>\n",
       "      <th>Total_Sentiment</th>\n",
       "    </tr>\n",
       "  </thead>\n",
       "  <tbody>\n",
       "    <tr>\n",
       "      <th>7932</th>\n",
       "      <td>0.893597</td>\n",
       "      <td>0.049058</td>\n",
       "      <td>0.079607</td>\n",
       "    </tr>\n",
       "    <tr>\n",
       "      <th>7933</th>\n",
       "      <td>0.888431</td>\n",
       "      <td>0.045985</td>\n",
       "      <td>0.201671</td>\n",
       "    </tr>\n",
       "    <tr>\n",
       "      <th>7934</th>\n",
       "      <td>0.877294</td>\n",
       "      <td>0.035531</td>\n",
       "      <td>0.144740</td>\n",
       "    </tr>\n",
       "    <tr>\n",
       "      <th>7935</th>\n",
       "      <td>0.905136</td>\n",
       "      <td>0.030420</td>\n",
       "      <td>0.169967</td>\n",
       "    </tr>\n",
       "    <tr>\n",
       "      <th>7936</th>\n",
       "      <td>0.929020</td>\n",
       "      <td>0.040616</td>\n",
       "      <td>0.320304</td>\n",
       "    </tr>\n",
       "  </tbody>\n",
       "</table>\n",
       "</div>"
      ],
      "text/plain": [
       "         Close    Volume  Total_Sentiment\n",
       "7932  0.893597  0.049058         0.079607\n",
       "7933  0.888431  0.045985         0.201671\n",
       "7934  0.877294  0.035531         0.144740\n",
       "7935  0.905136  0.030420         0.169967\n",
       "7936  0.929020  0.040616         0.320304"
      ]
     },
     "execution_count": 54,
     "metadata": {},
     "output_type": "execute_result"
    }
   ],
   "source": [
    "df_transformed.tail(5)"
   ]
  },
  {
   "cell_type": "code",
   "execution_count": null,
   "metadata": {},
   "outputs": [
    {
     "name": "stdout",
     "output_type": "stream",
     "text": [
      "140.745\n"
     ]
    },
    {
     "name": "stderr",
     "output_type": "stream",
     "text": [
      "c:\\Users\\user\\AppData\\Local\\Programs\\Python\\Python310\\lib\\site-packages\\sklearn\\utils\\validation.py:2739: UserWarning: X does not have valid feature names, but DecisionTreeRegressor was fitted with feature names\n",
      "  warnings.warn(\n"
     ]
    }
   ],
   "source": [
    "import numpy as np\n",
    "\n",
    "X = df_transformed.drop('Close', axis=1).iloc[-1].to_numpy().reshape(1, -1)\n",
    "\n",
    "prediction = dt.predict(X)\n",
    "\n",
    "temp = np.array([[prediction[0], X[0, 0], X[0, 1]]])\n",
    "\n",
    "original_value = scaler.inverse_transform(temp)\n",
    "\n",
    "print(original_value[0,0])"
   ]
  },
  {
   "cell_type": "markdown",
   "metadata": {},
   "source": [
    "## LSTM (TBC)"
   ]
  }
 ],
 "metadata": {
  "kernelspec": {
   "display_name": "Python 3",
   "language": "python",
   "name": "python3"
  },
  "language_info": {
   "codemirror_mode": {
    "name": "ipython",
    "version": 3
   },
   "file_extension": ".py",
   "mimetype": "text/x-python",
   "name": "python",
   "nbconvert_exporter": "python",
   "pygments_lexer": "ipython3",
   "version": "3.10.0"
  }
 },
 "nbformat": 4,
 "nbformat_minor": 2
}
