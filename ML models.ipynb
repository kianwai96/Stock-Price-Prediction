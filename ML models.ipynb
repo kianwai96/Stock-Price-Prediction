{
 "cells": [
  {
   "cell_type": "code",
   "execution_count": 99,
   "metadata": {},
   "outputs": [],
   "source": [
    "import mysql.connector as connector\n",
    "import sklearn\n",
    "import datetime \n",
    "import matplotlib.pyplot as plt\n",
    "import pandas as pd\n",
    "\n",
    "from sklearn.linear_model import LinearRegression\n",
    "from sklearn.metrics import mean_squared_error\n",
    "from sklearn.preprocessing import MinMaxScaler\n",
    "from sklearn.metrics import r2_score"
   ]
  },
  {
   "cell_type": "markdown",
   "metadata": {},
   "source": [
    "## SQL Connection & Import"
   ]
  },
  {
   "cell_type": "code",
   "execution_count": 100,
   "metadata": {},
   "outputs": [],
   "source": [
    "conn = connector.connect(user='root', password='123456', host='localhost', port='3306', database='my_db')\n",
    "\n",
    "mycursor = conn.cursor()"
   ]
  },
  {
   "cell_type": "code",
   "execution_count": 101,
   "metadata": {},
   "outputs": [],
   "source": [
    "mycursor.execute('SELECT * FROM price_sentiment')\n",
    "result = mycursor.fetchall()\n",
    "df = pd.DataFrame(result, columns = ['Date', 'Open', 'High', 'Low', 'Close', 'Volume', 'Dividends', 'Stock_Splits', 'Score', 'Positive' , 'Negative', 'Neutral', 'Total_Sentiment'])\n",
    "\n",
    "df.set_index('Date', drop = True, inplace=True)\n",
    "date = df.index\n",
    "df.drop(['Open', 'High', 'Low', 'Dividends', 'Stock_Splits', 'Score', 'Positive',\t'Negative',\t'Neutral'], inplace=True, axis=1)"
   ]
  },
  {
   "cell_type": "code",
   "execution_count": 102,
   "metadata": {},
   "outputs": [
    {
     "data": {
      "text/html": [
       "<div>\n",
       "<style scoped>\n",
       "    .dataframe tbody tr th:only-of-type {\n",
       "        vertical-align: middle;\n",
       "    }\n",
       "\n",
       "    .dataframe tbody tr th {\n",
       "        vertical-align: top;\n",
       "    }\n",
       "\n",
       "    .dataframe thead th {\n",
       "        text-align: right;\n",
       "    }\n",
       "</style>\n",
       "<table border=\"1\" class=\"dataframe\">\n",
       "  <thead>\n",
       "    <tr style=\"text-align: right;\">\n",
       "      <th></th>\n",
       "      <th>Close</th>\n",
       "      <th>Volume</th>\n",
       "      <th>Total_Sentiment</th>\n",
       "    </tr>\n",
       "    <tr>\n",
       "      <th>Date</th>\n",
       "      <th></th>\n",
       "      <th></th>\n",
       "      <th></th>\n",
       "    </tr>\n",
       "  </thead>\n",
       "  <tbody>\n",
       "    <tr>\n",
       "      <th>2014-01-06</th>\n",
       "      <td>0.374438</td>\n",
       "      <td>409492000.0</td>\n",
       "      <td>0.00000</td>\n",
       "    </tr>\n",
       "    <tr>\n",
       "      <th>2014-04-23</th>\n",
       "      <td>0.452159</td>\n",
       "      <td>261580000.0</td>\n",
       "      <td>-1.00000</td>\n",
       "    </tr>\n",
       "    <tr>\n",
       "      <th>2015-06-01</th>\n",
       "      <td>0.541710</td>\n",
       "      <td>372660000.0</td>\n",
       "      <td>0.00000</td>\n",
       "    </tr>\n",
       "    <tr>\n",
       "      <th>2016-01-05</th>\n",
       "      <td>0.802491</td>\n",
       "      <td>490272000.0</td>\n",
       "      <td>1.00000</td>\n",
       "    </tr>\n",
       "    <tr>\n",
       "      <th>2016-09-28</th>\n",
       "      <td>1.642590</td>\n",
       "      <td>319788000.0</td>\n",
       "      <td>0.00000</td>\n",
       "    </tr>\n",
       "    <tr>\n",
       "      <th>...</th>\n",
       "      <td>...</td>\n",
       "      <td>...</td>\n",
       "      <td>...</td>\n",
       "    </tr>\n",
       "    <tr>\n",
       "      <th>2025-02-10</th>\n",
       "      <td>133.570000</td>\n",
       "      <td>216989000.0</td>\n",
       "      <td>5.84000</td>\n",
       "    </tr>\n",
       "    <tr>\n",
       "      <th>2025-02-11</th>\n",
       "      <td>132.800000</td>\n",
       "      <td>178356000.0</td>\n",
       "      <td>3.90909</td>\n",
       "    </tr>\n",
       "    <tr>\n",
       "      <th>2025-02-12</th>\n",
       "      <td>131.447000</td>\n",
       "      <td>49444900.0</td>\n",
       "      <td>4.76471</td>\n",
       "    </tr>\n",
       "    <tr>\n",
       "      <th>2025-02-13</th>\n",
       "      <td>135.290000</td>\n",
       "      <td>197430000.0</td>\n",
       "      <td>9.86364</td>\n",
       "    </tr>\n",
       "    <tr>\n",
       "      <th>2025-02-14</th>\n",
       "      <td>138.850000</td>\n",
       "      <td>194892000.0</td>\n",
       "      <td>5.92857</td>\n",
       "    </tr>\n",
       "  </tbody>\n",
       "</table>\n",
       "<p>1593 rows × 3 columns</p>\n",
       "</div>"
      ],
      "text/plain": [
       "                 Close       Volume  Total_Sentiment\n",
       "Date                                                \n",
       "2014-01-06    0.374438  409492000.0          0.00000\n",
       "2014-04-23    0.452159  261580000.0         -1.00000\n",
       "2015-06-01    0.541710  372660000.0          0.00000\n",
       "2016-01-05    0.802491  490272000.0          1.00000\n",
       "2016-09-28    1.642590  319788000.0          0.00000\n",
       "...                ...          ...              ...\n",
       "2025-02-10  133.570000  216989000.0          5.84000\n",
       "2025-02-11  132.800000  178356000.0          3.90909\n",
       "2025-02-12  131.447000   49444900.0          4.76471\n",
       "2025-02-13  135.290000  197430000.0          9.86364\n",
       "2025-02-14  138.850000  194892000.0          5.92857\n",
       "\n",
       "[1593 rows x 3 columns]"
      ]
     },
     "execution_count": 102,
     "metadata": {},
     "output_type": "execute_result"
    }
   ],
   "source": [
    "df"
   ]
  },
  {
   "cell_type": "markdown",
   "metadata": {},
   "source": [
    "### Data Processing"
   ]
  },
  {
   "cell_type": "code",
   "execution_count": 103,
   "metadata": {},
   "outputs": [],
   "source": [
    "df['Close'] = df['Close'].shift(-1)\n",
    "df.dropna(inplace=True)\n",
    "\n",
    "df_date = df.index"
   ]
  },
  {
   "cell_type": "code",
   "execution_count": 104,
   "metadata": {},
   "outputs": [],
   "source": [
    "df_columns = df.columns\n",
    "scaler = MinMaxScaler()\n",
    "\n",
    "df_transformed = scaler.fit_transform(df)\n",
    "df_transformed = pd.DataFrame(df_transformed)\n",
    "\n",
    "df_transformed.columns = df_columns\n",
    "df_transformed.set_index(df_date, inplace=True)\n"
   ]
  },
  {
   "cell_type": "markdown",
   "metadata": {},
   "source": [
    "### Function train test split"
   ]
  },
  {
   "cell_type": "code",
   "execution_count": 105,
   "metadata": {},
   "outputs": [],
   "source": [
    "def traintest(data):\n",
    "\n",
    "    #X = data.drop(columns=['Close'], axis = 1)\n",
    "    X= data.drop(['Close'],axis=1)\n",
    "    Y = data['Close']\n",
    "    \n",
    "    X_train = X.iloc[0:int(0.7*len(X))]\n",
    "    Y_train = Y.iloc[0:int(0.7*len(Y))]\n",
    "\n",
    "    X_test = X.iloc[int(0.7*len(X)):len(X)]\n",
    "    Y_test = Y.iloc[int(0.7*len(Y)):int(len(Y))]\n",
    "\n",
    "    \n",
    "\n",
    "    return X_train, X_test, Y_train,Y_test\n"
   ]
  },
  {
   "cell_type": "markdown",
   "metadata": {},
   "source": [
    "## Linear Regression"
   ]
  },
  {
   "cell_type": "code",
   "execution_count": 106,
   "metadata": {},
   "outputs": [],
   "source": [
    "X_train, X_test, Y_train,Y_test = traintest(df_transformed)\n",
    "\n",
    "model=LinearRegression()\n",
    "\n",
    "model.fit(X_train, Y_train)\n",
    "\n",
    "y_pred = model.predict(X_test)"
   ]
  },
  {
   "cell_type": "code",
   "execution_count": 107,
   "metadata": {},
   "outputs": [
    {
     "name": "stdout",
     "output_type": "stream",
     "text": [
      "-2.737574807457085\n",
      "0.2755516786995839\n"
     ]
    }
   ],
   "source": [
    "r2 = sklearn.metrics.r2_score(Y_test, y_pred)\n",
    "print(r2)\n",
    "\n",
    "mse = mean_squared_error(Y_test, y_pred)\n",
    "print(mse)\n"
   ]
  },
  {
   "cell_type": "code",
   "execution_count": 108,
   "metadata": {},
   "outputs": [
    {
     "name": "stdout",
     "output_type": "stream",
     "text": [
      "17.865714969428456\n"
     ]
    },
    {
     "name": "stderr",
     "output_type": "stream",
     "text": [
      "c:\\Users\\user\\AppData\\Local\\Programs\\Python\\Python310\\lib\\site-packages\\sklearn\\utils\\validation.py:2739: UserWarning: X does not have valid feature names, but LinearRegression was fitted with feature names\n",
      "  warnings.warn(\n"
     ]
    }
   ],
   "source": [
    "import numpy as np\n",
    "\n",
    "X = df_transformed.drop('Close', axis=1).iloc[-1].to_numpy().reshape(1, -1)\n",
    "\n",
    "prediction = model.predict(X)\n",
    "\n",
    "temp = np.array([[prediction[0], X[0, 0], X[0, 1]]])\n",
    "\n",
    "original_value = scaler.inverse_transform(temp)\n",
    "\n",
    "print(original_value[0,0])"
   ]
  },
  {
   "cell_type": "code",
   "execution_count": 109,
   "metadata": {},
   "outputs": [],
   "source": [
    "from sklearn.model_selection import GridSearchCV, cross_val_score\n",
    "from sklearn.pipeline import Pipeline\n",
    "\n",
    "from sklearn.preprocessing import PolynomialFeatures"
   ]
  },
  {
   "cell_type": "code",
   "execution_count": 110,
   "metadata": {},
   "outputs": [],
   "source": [
    "pipeline = Pipeline([\n",
    "    ('poly', PolynomialFeatures()),  \n",
    "    ('model', LinearRegression())\n",
    "])\n",
    "\n",
    "param_grid = {\n",
    "    'poly__degree': [1, 2, 3, 4, 5, 6],\n",
    "    'model__fit_intercept': [True, False]\n",
    "}"
   ]
  },
  {
   "cell_type": "code",
   "execution_count": 111,
   "metadata": {},
   "outputs": [],
   "source": [
    "X = df.drop('Close', axis=1)\n",
    "\n",
    "Y= df['Close']"
   ]
  },
  {
   "cell_type": "code",
   "execution_count": 112,
   "metadata": {},
   "outputs": [
    {
     "name": "stdout",
     "output_type": "stream",
     "text": [
      "Best Polynomial Degree: 1\n",
      "Best R² Score: -177.2255\n"
     ]
    }
   ],
   "source": [
    "# 🔹 Perform Grid Search\n",
    "grid_search = GridSearchCV(\n",
    "    pipeline, param_grid, cv=5, scoring='r2', n_jobs=-1  # Using R² as the metric\n",
    ")\n",
    "\n",
    "grid_search.fit(X, Y)  # Flatten Y to 1D array\n",
    "\n",
    "print(f\"Best Polynomial Degree: {grid_search.best_params_['poly__degree']}\")\n",
    "print(f\"Best R² Score: {grid_search.best_score_:.4f}\")"
   ]
  },
  {
   "cell_type": "markdown",
   "metadata": {},
   "source": [
    "## Decision Tree"
   ]
  },
  {
   "cell_type": "code",
   "execution_count": 113,
   "metadata": {},
   "outputs": [
    {
     "name": "stdout",
     "output_type": "stream",
     "text": [
      "-2.639371917673276\n",
      "0.26831169755483475\n"
     ]
    }
   ],
   "source": [
    "from sklearn.tree import DecisionTreeRegressor\n",
    "\n",
    "X_train, X_test, Y_train,Y_test = traintest(df_transformed)\n",
    "\n",
    "dt = DecisionTreeRegressor()\n",
    "\n",
    "dt.fit(X_train, Y_train)\n",
    "\n",
    "y_pred = dt.predict(X_test)\n",
    "\n",
    "r2 = r2_score(Y_test, y_pred)\n",
    "\n",
    "print(r2)\n",
    "\n",
    "mse = mean_squared_error(Y_test, y_pred)\n",
    "print(mse)"
   ]
  },
  {
   "cell_type": "code",
   "execution_count": 114,
   "metadata": {},
   "outputs": [
    {
     "data": {
      "image/png": "[encoded data removed]",
      "text/plain": [
       "<Figure size 640x480 with 1 Axes>"
      ]
     },
     "metadata": {},
     "output_type": "display_data"
    }
   ],
   "source": [
    "plt.scatter(Y_test,y_pred, color='red')\n",
    "plt.ylabel('Prediction')\n",
    "plt.xlabel('Actual')\n",
    "plt.show()"
   ]
  },
  {
   "cell_type": "code",
   "execution_count": 115,
   "metadata": {},
   "outputs": [
    {
     "name": "stdout",
     "output_type": "stream",
     "text": [
      "19.2562\n"
     ]
    },
    {
     "name": "stderr",
     "output_type": "stream",
     "text": [
      "c:\\Users\\user\\AppData\\Local\\Programs\\Python\\Python310\\lib\\site-packages\\sklearn\\utils\\validation.py:2739: UserWarning: X does not have valid feature names, but DecisionTreeRegressor was fitted with feature names\n",
      "  warnings.warn(\n"
     ]
    }
   ],
   "source": [
    "import numpy as np\n",
    "\n",
    "X = df_transformed.drop('Close', axis=1).iloc[-1].to_numpy().reshape(1, -1)\n",
    "\n",
    "prediction = dt.predict(X)\n",
    "\n",
    "temp = np.array([[prediction[0], X[0, 0], X[0, 1]]])\n",
    "\n",
    "original_value = scaler.inverse_transform(temp)\n",
    "\n",
    "print(original_value[0,0])"
   ]
  },
  {
   "cell_type": "code",
   "execution_count": 116,
   "metadata": {},
   "outputs": [
    {
     "name": "stdout",
     "output_type": "stream",
     "text": [
      "0.272672037366242\n"
     ]
    }
   ],
   "source": [
    "parameter ={\n",
    "    'max_depth': [10,20,30,None],\n",
    "    'min_samples_split': [2,5,10],\n",
    "    'min_samples_leaf':[1,2,4]\n",
    "}\n",
    "\n",
    "grid_search = GridSearchCV(estimator=dt, param_grid=parameter, cv=5,n_jobs=-1,  scoring='neg_mean_squared_error')\n",
    "\n",
    "grid_search.fit(X_train, Y_train)\n",
    "\n",
    "best_dt = grid_search.best_estimator_\n",
    "y_pred = best_dt.predict(X_test)\n",
    "\n",
    "mse = mean_squared_error(Y_test, y_pred)\n",
    "print(mse)"
   ]
  },
  {
   "cell_type": "code",
   "execution_count": 117,
   "metadata": {},
   "outputs": [
    {
     "name": "stdout",
     "output_type": "stream",
     "text": [
      "19.2562\n"
     ]
    },
    {
     "name": "stderr",
     "output_type": "stream",
     "text": [
      "c:\\Users\\user\\AppData\\Local\\Programs\\Python\\Python310\\lib\\site-packages\\sklearn\\utils\\validation.py:2739: UserWarning: X does not have valid feature names, but DecisionTreeRegressor was fitted with feature names\n",
      "  warnings.warn(\n"
     ]
    }
   ],
   "source": [
    "import numpy as np\n",
    "\n",
    "X = df_transformed.drop('Close', axis=1).iloc[-1].to_numpy().reshape(1, -1)\n",
    "\n",
    "prediction = dt.predict(X)\n",
    "\n",
    "temp = np.array([[prediction[0], X[0, 0], X[0, 1]]])\n",
    "\n",
    "original_value = scaler.inverse_transform(temp)\n",
    "\n",
    "print(original_value[0,0])"
   ]
  },
  {
   "cell_type": "code",
   "execution_count": 118,
   "metadata": {},
   "outputs": [
    {
     "name": "stdout",
     "output_type": "stream",
     "text": [
      "18.961183333333334\n"
     ]
    },
    {
     "name": "stderr",
     "output_type": "stream",
     "text": [
      "c:\\Users\\user\\AppData\\Local\\Programs\\Python\\Python310\\lib\\site-packages\\sklearn\\utils\\validation.py:2739: UserWarning: X does not have valid feature names, but DecisionTreeRegressor was fitted with feature names\n",
      "  warnings.warn(\n"
     ]
    }
   ],
   "source": [
    "X = df_transformed.drop('Close', axis=1).iloc[-1].to_numpy().reshape(1, -1)\n",
    "\n",
    "prediction = best_dt.predict(X)\n",
    "\n",
    "temp = np.array([[prediction[0], X[0, 0], X[0, 1]]])\n",
    "\n",
    "original_value = scaler.inverse_transform(temp)\n",
    "\n",
    "print(original_value[0,0])"
   ]
  },
  {
   "cell_type": "markdown",
   "metadata": {},
   "source": [
    "## Random Forest"
   ]
  },
  {
   "cell_type": "code",
   "execution_count": 119,
   "metadata": {},
   "outputs": [
    {
     "name": "stdout",
     "output_type": "stream",
     "text": [
      "-2.7376532969221214\n",
      "0.27555746531389\n"
     ]
    }
   ],
   "source": [
    "from sklearn.ensemble import RandomForestRegressor\n",
    "\n",
    "rf = RandomForestRegressor()\n",
    "rf.fit(X_train,Y_train)\n",
    "\n",
    "rf_pred = rf.predict(X_test)\n",
    "\n",
    "r2 = r2_score(Y_test,rf_pred)\n",
    "print(r2)\n",
    "\n",
    "mse = mean_squared_error(rf_pred, Y_test)\n",
    "print(mse)"
   ]
  },
  {
   "cell_type": "code",
   "execution_count": 120,
   "metadata": {},
   "outputs": [
    {
     "data": {
      "image/png": "[encoded data removed]",
      "text/plain": [
       "<Figure size 640x480 with 1 Axes>"
      ]
     },
     "metadata": {},
     "output_type": "display_data"
    }
   ],
   "source": [
    "plt.scatter(Y_test,y_pred, color='red')\n",
    "plt.ylabel('Prediction')\n",
    "plt.xlabel('Actual')\n",
    "plt.show()"
   ]
  },
  {
   "cell_type": "code",
   "execution_count": 121,
   "metadata": {},
   "outputs": [
    {
     "name": "stdout",
     "output_type": "stream",
     "text": [
      "17.581835000000005\n"
     ]
    },
    {
     "name": "stderr",
     "output_type": "stream",
     "text": [
      "c:\\Users\\user\\AppData\\Local\\Programs\\Python\\Python310\\lib\\site-packages\\sklearn\\utils\\validation.py:2739: UserWarning: X does not have valid feature names, but RandomForestRegressor was fitted with feature names\n",
      "  warnings.warn(\n"
     ]
    }
   ],
   "source": [
    "X = df_transformed.drop('Close', axis=1).iloc[-1].to_numpy().reshape(1, -1)\n",
    "\n",
    "prediction = rf.predict(X)\n",
    "\n",
    "temp = np.array([[prediction[0], X[0, 0], X[0, 1]]])\n",
    "\n",
    "original_value = scaler.inverse_transform(temp)\n",
    "\n",
    "print(original_value[0,0])"
   ]
  },
  {
   "cell_type": "code",
   "execution_count": 122,
   "metadata": {},
   "outputs": [
    {
     "name": "stdout",
     "output_type": "stream",
     "text": [
      "{'max_depth': 5, 'min_samples_leaf': 10, 'min_samples_split': 30, 'n_estimators': 100}\n"
     ]
    }
   ],
   "source": [
    "parameter ={\n",
    "    'n_estimators':[100,200,300,400,500],\n",
    "    'max_depth': [2,5,10,20,30, None],\n",
    "    'min_samples_split':[2,5,10,20,30],\n",
    "    'min_samples_leaf':[1,2,5,10,20,30]\n",
    "}\n",
    "\n",
    "grid_search = GridSearchCV(estimator=rf, param_grid=parameter,cv=5,n_jobs=-1,scoring='neg_mean_squared_error')\n",
    "\n",
    "grid_search.fit(X_train, Y_train)\n",
    "\n",
    "print(grid_search.best_params_)\n"
   ]
  },
  {
   "cell_type": "code",
   "execution_count": 123,
   "metadata": {},
   "outputs": [
    {
     "name": "stdout",
     "output_type": "stream",
     "text": [
      "0.27995215743993573\n"
     ]
    }
   ],
   "source": [
    "best_rf = grid_search.best_estimator_\n",
    "\n",
    "rf_pred = best_rf.predict(X_test)\n",
    "\n",
    "mse = mean_squared_error(rf_pred, Y_test)\n",
    "print(mse)"
   ]
  },
  {
   "cell_type": "code",
   "execution_count": 124,
   "metadata": {},
   "outputs": [
    {
     "name": "stdout",
     "output_type": "stream",
     "text": [
      "15.403385541858187\n"
     ]
    },
    {
     "name": "stderr",
     "output_type": "stream",
     "text": [
      "c:\\Users\\user\\AppData\\Local\\Programs\\Python\\Python310\\lib\\site-packages\\sklearn\\utils\\validation.py:2739: UserWarning: X does not have valid feature names, but RandomForestRegressor was fitted with feature names\n",
      "  warnings.warn(\n"
     ]
    }
   ],
   "source": [
    "X = df_transformed.drop('Close', axis=1).iloc[-1].to_numpy().reshape(1, -1)\n",
    "\n",
    "prediction = best_rf .predict(X)\n",
    "\n",
    "temp = np.array([[prediction[0], X[0, 0], X[0, 1]]])\n",
    "\n",
    "original_value = scaler.inverse_transform(temp)\n",
    "\n",
    "print(original_value[0,0])"
   ]
  },
  {
   "cell_type": "code",
   "execution_count": 125,
   "metadata": {},
   "outputs": [],
   "source": [
    "df_transformed.index = pd.to_datetime(df_transformed.index)\n",
    "\n",
    "df_transformed.index = df_transformed.index.strftime('%d-%m-%Y')"
   ]
  },
  {
   "cell_type": "markdown",
   "metadata": {},
   "source": [
    "## LSTM (TBC)"
   ]
  },
  {
   "cell_type": "code",
   "execution_count": 126,
   "metadata": {},
   "outputs": [],
   "source": [
    "import tensorflow as tf\n",
    "\n",
    "from tensorflow import keras\n",
    "from keras.models import Sequential\n",
    "from keras.layers import LSTM, Dense\n",
    "from keras.callbacks import EarlyStopping"
   ]
  },
  {
   "cell_type": "code",
   "execution_count": 127,
   "metadata": {},
   "outputs": [
    {
     "name": "stderr",
     "output_type": "stream",
     "text": [
      "c:\\Users\\user\\AppData\\Local\\Programs\\Python\\Python310\\lib\\site-packages\\keras\\src\\layers\\core\\dense.py:87: UserWarning: Do not pass an `input_shape`/`input_dim` argument to a layer. When using Sequential models, prefer using an `Input(shape)` object as the first layer in the model instead.\n",
      "  super().__init__(activity_regularizer=activity_regularizer, **kwargs)\n"
     ]
    }
   ],
   "source": [
    "dnn = Sequential()\n",
    "dnn.add(Dense(units=128, activation = 'relu', input_dim=2))\n",
    "dnn.add(Dense(units=32, activation = 'relu'))\n",
    "dnn.add(Dense(units=8, activation = 'relu'))\n",
    "dnn.add(Dense(units=1, activation = 'linear'))"
   ]
  },
  {
   "cell_type": "code",
   "execution_count": 128,
   "metadata": {},
   "outputs": [],
   "source": [
    "dnn.compile(optimizer='adam', loss='mean_squared_error')"
   ]
  },
  {
   "cell_type": "code",
   "execution_count": 129,
   "metadata": {},
   "outputs": [],
   "source": [
    "es = EarlyStopping(monitor='val_loss', mode = 'min',verbose=1, patience=200)"
   ]
  },
  {
   "cell_type": "code",
   "execution_count": 130,
   "metadata": {},
   "outputs": [
    {
     "name": "stdout",
     "output_type": "stream",
     "text": [
      "Epoch 1/100\n",
      "\u001b[1m35/35\u001b[0m \u001b[32m━━━━━━━━━━━━━━━━━━━━\u001b[0m\u001b[37m\u001b[0m \u001b[1m2s\u001b[0m 9ms/step - loss: 0.0059 - val_loss: 0.2747\n",
      "Epoch 2/100\n",
      "\u001b[1m35/35\u001b[0m \u001b[32m━━━━━━━━━━━━━━━━━━━━\u001b[0m\u001b[37m\u001b[0m \u001b[1m0s\u001b[0m 5ms/step - loss: 0.0027 - val_loss: 0.2792\n",
      "Epoch 3/100\n",
      "\u001b[1m35/35\u001b[0m \u001b[32m━━━━━━━━━━━━━━━━━━━━\u001b[0m\u001b[37m\u001b[0m \u001b[1m0s\u001b[0m 5ms/step - loss: 0.0026 - val_loss: 0.2827\n",
      "Epoch 4/100\n",
      "\u001b[1m35/35\u001b[0m \u001b[32m━━━━━━━━━━━━━━━━━━━━\u001b[0m\u001b[37m\u001b[0m \u001b[1m0s\u001b[0m 5ms/step - loss: 0.0027 - val_loss: 0.2821\n",
      "Epoch 5/100\n",
      "\u001b[1m35/35\u001b[0m \u001b[32m━━━━━━━━━━━━━━━━━━━━\u001b[0m\u001b[37m\u001b[0m \u001b[1m0s\u001b[0m 5ms/step - loss: 0.0026 - val_loss: 0.2821\n",
      "Epoch 6/100\n",
      "\u001b[1m35/35\u001b[0m \u001b[32m━━━━━━━━━━━━━━━━━━━━\u001b[0m\u001b[37m\u001b[0m \u001b[1m0s\u001b[0m 5ms/step - loss: 0.0025 - val_loss: 0.2801\n",
      "Epoch 7/100\n",
      "\u001b[1m35/35\u001b[0m \u001b[32m━━━━━━━━━━━━━━━━━━━━\u001b[0m\u001b[37m\u001b[0m \u001b[1m0s\u001b[0m 5ms/step - loss: 0.0024 - val_loss: 0.2803\n",
      "Epoch 8/100\n",
      "\u001b[1m35/35\u001b[0m \u001b[32m━━━━━━━━━━━━━━━━━━━━\u001b[0m\u001b[37m\u001b[0m \u001b[1m0s\u001b[0m 5ms/step - loss: 0.0024 - val_loss: 0.2802\n",
      "Epoch 9/100\n",
      "\u001b[1m35/35\u001b[0m \u001b[32m━━━━━━━━━━━━━━━━━━━━\u001b[0m\u001b[37m\u001b[0m \u001b[1m0s\u001b[0m 5ms/step - loss: 0.0025 - val_loss: 0.2832\n",
      "Epoch 10/100\n",
      "\u001b[1m35/35\u001b[0m \u001b[32m━━━━━━━━━━━━━━━━━━━━\u001b[0m\u001b[37m\u001b[0m \u001b[1m0s\u001b[0m 5ms/step - loss: 0.0024 - val_loss: 0.2806\n",
      "Epoch 11/100\n",
      "\u001b[1m35/35\u001b[0m \u001b[32m━━━━━━━━━━━━━━━━━━━━\u001b[0m\u001b[37m\u001b[0m \u001b[1m0s\u001b[0m 5ms/step - loss: 0.0025 - val_loss: 0.2773\n",
      "Epoch 12/100\n",
      "\u001b[1m35/35\u001b[0m \u001b[32m━━━━━━━━━━━━━━━━━━━━\u001b[0m\u001b[37m\u001b[0m \u001b[1m0s\u001b[0m 5ms/step - loss: 0.0025 - val_loss: 0.2721\n",
      "Epoch 13/100\n",
      "\u001b[1m35/35\u001b[0m \u001b[32m━━━━━━━━━━━━━━━━━━━━\u001b[0m\u001b[37m\u001b[0m \u001b[1m0s\u001b[0m 5ms/step - loss: 0.0025 - val_loss: 0.2821\n",
      "Epoch 14/100\n",
      "\u001b[1m35/35\u001b[0m \u001b[32m━━━━━━━━━━━━━━━━━━━━\u001b[0m\u001b[37m\u001b[0m \u001b[1m0s\u001b[0m 6ms/step - loss: 0.0026 - val_loss: 0.2779\n",
      "Epoch 15/100\n",
      "\u001b[1m35/35\u001b[0m \u001b[32m━━━━━━━━━━━━━━━━━━━━\u001b[0m\u001b[37m\u001b[0m \u001b[1m0s\u001b[0m 5ms/step - loss: 0.0023 - val_loss: 0.2757\n",
      "Epoch 16/100\n",
      "\u001b[1m35/35\u001b[0m \u001b[32m━━━━━━━━━━━━━━━━━━━━\u001b[0m\u001b[37m\u001b[0m \u001b[1m0s\u001b[0m 5ms/step - loss: 0.0025 - val_loss: 0.2776\n",
      "Epoch 17/100\n",
      "\u001b[1m35/35\u001b[0m \u001b[32m━━━━━━━━━━━━━━━━━━━━\u001b[0m\u001b[37m\u001b[0m \u001b[1m0s\u001b[0m 5ms/step - loss: 0.0024 - val_loss: 0.2708\n",
      "Epoch 18/100\n",
      "\u001b[1m35/35\u001b[0m \u001b[32m━━━━━━━━━━━━━━━━━━━━\u001b[0m\u001b[37m\u001b[0m \u001b[1m0s\u001b[0m 5ms/step - loss: 0.0026 - val_loss: 0.2840\n",
      "Epoch 19/100\n",
      "\u001b[1m35/35\u001b[0m \u001b[32m━━━━━━━━━━━━━━━━━━━━\u001b[0m\u001b[37m\u001b[0m \u001b[1m0s\u001b[0m 5ms/step - loss: 0.0023 - val_loss: 0.2775\n",
      "Epoch 20/100\n",
      "\u001b[1m35/35\u001b[0m \u001b[32m━━━━━━━━━━━━━━━━━━━━\u001b[0m\u001b[37m\u001b[0m \u001b[1m0s\u001b[0m 5ms/step - loss: 0.0024 - val_loss: 0.2744\n",
      "Epoch 21/100\n",
      "\u001b[1m35/35\u001b[0m \u001b[32m━━━━━━━━━━━━━━━━━━━━\u001b[0m\u001b[37m\u001b[0m \u001b[1m0s\u001b[0m 5ms/step - loss: 0.0026 - val_loss: 0.2797\n",
      "Epoch 22/100\n",
      "\u001b[1m35/35\u001b[0m \u001b[32m━━━━━━━━━━━━━━━━━━━━\u001b[0m\u001b[37m\u001b[0m \u001b[1m0s\u001b[0m 5ms/step - loss: 0.0025 - val_loss: 0.2801\n",
      "Epoch 23/100\n",
      "\u001b[1m35/35\u001b[0m \u001b[32m━━━━━━━━━━━━━━━━━━━━\u001b[0m\u001b[37m\u001b[0m \u001b[1m0s\u001b[0m 5ms/step - loss: 0.0025 - val_loss: 0.2789\n",
      "Epoch 24/100\n",
      "\u001b[1m35/35\u001b[0m \u001b[32m━━━━━━━━━━━━━━━━━━━━\u001b[0m\u001b[37m\u001b[0m \u001b[1m0s\u001b[0m 5ms/step - loss: 0.0025 - val_loss: 0.2764\n",
      "Epoch 25/100\n",
      "\u001b[1m35/35\u001b[0m \u001b[32m━━━━━━━━━━━━━━━━━━━━\u001b[0m\u001b[37m\u001b[0m \u001b[1m0s\u001b[0m 5ms/step - loss: 0.0024 - val_loss: 0.2863\n",
      "Epoch 26/100\n",
      "\u001b[1m35/35\u001b[0m \u001b[32m━━━━━━━━━━━━━━━━━━━━\u001b[0m\u001b[37m\u001b[0m \u001b[1m0s\u001b[0m 5ms/step - loss: 0.0025 - val_loss: 0.2814\n",
      "Epoch 27/100\n",
      "\u001b[1m35/35\u001b[0m \u001b[32m━━━━━━━━━━━━━━━━━━━━\u001b[0m\u001b[37m\u001b[0m \u001b[1m0s\u001b[0m 5ms/step - loss: 0.0025 - val_loss: 0.2839\n",
      "Epoch 28/100\n",
      "\u001b[1m35/35\u001b[0m \u001b[32m━━━━━━━━━━━━━━━━━━━━\u001b[0m\u001b[37m\u001b[0m \u001b[1m0s\u001b[0m 5ms/step - loss: 0.0024 - val_loss: 0.2822\n",
      "Epoch 29/100\n",
      "\u001b[1m35/35\u001b[0m \u001b[32m━━━━━━━━━━━━━━━━━━━━\u001b[0m\u001b[37m\u001b[0m \u001b[1m0s\u001b[0m 5ms/step - loss: 0.0025 - val_loss: 0.2845\n",
      "Epoch 30/100\n",
      "\u001b[1m35/35\u001b[0m \u001b[32m━━━━━━━━━━━━━━━━━━━━\u001b[0m\u001b[37m\u001b[0m \u001b[1m0s\u001b[0m 6ms/step - loss: 0.0025 - val_loss: 0.2809\n",
      "Epoch 31/100\n",
      "\u001b[1m35/35\u001b[0m \u001b[32m━━━━━━━━━━━━━━━━━━━━\u001b[0m\u001b[37m\u001b[0m \u001b[1m0s\u001b[0m 5ms/step - loss: 0.0025 - val_loss: 0.2777\n",
      "Epoch 32/100\n",
      "\u001b[1m35/35\u001b[0m \u001b[32m━━━━━━━━━━━━━━━━━━━━\u001b[0m\u001b[37m\u001b[0m \u001b[1m0s\u001b[0m 5ms/step - loss: 0.0024 - val_loss: 0.2819\n",
      "Epoch 33/100\n",
      "\u001b[1m35/35\u001b[0m \u001b[32m━━━━━━━━━━━━━━━━━━━━\u001b[0m\u001b[37m\u001b[0m \u001b[1m0s\u001b[0m 5ms/step - loss: 0.0026 - val_loss: 0.2792\n",
      "Epoch 34/100\n",
      "\u001b[1m35/35\u001b[0m \u001b[32m━━━━━━━━━━━━━━━━━━━━\u001b[0m\u001b[37m\u001b[0m \u001b[1m0s\u001b[0m 5ms/step - loss: 0.0025 - val_loss: 0.2817\n",
      "Epoch 35/100\n",
      "\u001b[1m35/35\u001b[0m \u001b[32m━━━━━━━━━━━━━━━━━━━━\u001b[0m\u001b[37m\u001b[0m \u001b[1m0s\u001b[0m 5ms/step - loss: 0.0025 - val_loss: 0.2805\n",
      "Epoch 36/100\n",
      "\u001b[1m35/35\u001b[0m \u001b[32m━━━━━━━━━━━━━━━━━━━━\u001b[0m\u001b[37m\u001b[0m \u001b[1m0s\u001b[0m 5ms/step - loss: 0.0023 - val_loss: 0.2750\n",
      "Epoch 37/100\n",
      "\u001b[1m35/35\u001b[0m \u001b[32m━━━━━━━━━━━━━━━━━━━━\u001b[0m\u001b[37m\u001b[0m \u001b[1m0s\u001b[0m 5ms/step - loss: 0.0024 - val_loss: 0.2795\n",
      "Epoch 38/100\n",
      "\u001b[1m35/35\u001b[0m \u001b[32m━━━━━━━━━━━━━━━━━━━━\u001b[0m\u001b[37m\u001b[0m \u001b[1m0s\u001b[0m 5ms/step - loss: 0.0026 - val_loss: 0.2855\n",
      "Epoch 39/100\n",
      "\u001b[1m35/35\u001b[0m \u001b[32m━━━━━━━━━━━━━━━━━━━━\u001b[0m\u001b[37m\u001b[0m \u001b[1m0s\u001b[0m 5ms/step - loss: 0.0025 - val_loss: 0.2813\n",
      "Epoch 40/100\n",
      "\u001b[1m35/35\u001b[0m \u001b[32m━━━━━━━━━━━━━━━━━━━━\u001b[0m\u001b[37m\u001b[0m \u001b[1m0s\u001b[0m 5ms/step - loss: 0.0025 - val_loss: 0.2828\n",
      "Epoch 41/100\n",
      "\u001b[1m35/35\u001b[0m \u001b[32m━━━━━━━━━━━━━━━━━━━━\u001b[0m\u001b[37m\u001b[0m \u001b[1m0s\u001b[0m 5ms/step - loss: 0.0024 - val_loss: 0.2789\n",
      "Epoch 42/100\n",
      "\u001b[1m35/35\u001b[0m \u001b[32m━━━━━━━━━━━━━━━━━━━━\u001b[0m\u001b[37m\u001b[0m \u001b[1m0s\u001b[0m 5ms/step - loss: 0.0024 - val_loss: 0.2783\n",
      "Epoch 43/100\n",
      "\u001b[1m35/35\u001b[0m \u001b[32m━━━━━━━━━━━━━━━━━━━━\u001b[0m\u001b[37m\u001b[0m \u001b[1m0s\u001b[0m 5ms/step - loss: 0.0024 - val_loss: 0.2845\n",
      "Epoch 44/100\n",
      "\u001b[1m35/35\u001b[0m \u001b[32m━━━━━━━━━━━━━━━━━━━━\u001b[0m\u001b[37m\u001b[0m \u001b[1m0s\u001b[0m 5ms/step - loss: 0.0025 - val_loss: 0.2812\n",
      "Epoch 45/100\n",
      "\u001b[1m35/35\u001b[0m \u001b[32m━━━━━━━━━━━━━━━━━━━━\u001b[0m\u001b[37m\u001b[0m \u001b[1m0s\u001b[0m 5ms/step - loss: 0.0026 - val_loss: 0.2808\n",
      "Epoch 46/100\n",
      "\u001b[1m35/35\u001b[0m \u001b[32m━━━━━━━━━━━━━━━━━━━━\u001b[0m\u001b[37m\u001b[0m \u001b[1m0s\u001b[0m 5ms/step - loss: 0.0027 - val_loss: 0.2821\n",
      "Epoch 47/100\n",
      "\u001b[1m35/35\u001b[0m \u001b[32m━━━━━━━━━━━━━━━━━━━━\u001b[0m\u001b[37m\u001b[0m \u001b[1m0s\u001b[0m 5ms/step - loss: 0.0026 - val_loss: 0.2798\n",
      "Epoch 48/100\n",
      "\u001b[1m35/35\u001b[0m \u001b[32m━━━━━━━━━━━━━━━━━━━━\u001b[0m\u001b[37m\u001b[0m \u001b[1m0s\u001b[0m 5ms/step - loss: 0.0025 - val_loss: 0.2805\n",
      "Epoch 49/100\n",
      "\u001b[1m35/35\u001b[0m \u001b[32m━━━━━━━━━━━━━━━━━━━━\u001b[0m\u001b[37m\u001b[0m \u001b[1m0s\u001b[0m 7ms/step - loss: 0.0024 - val_loss: 0.2838\n",
      "Epoch 50/100\n",
      "\u001b[1m35/35\u001b[0m \u001b[32m━━━━━━━━━━━━━━━━━━━━\u001b[0m\u001b[37m\u001b[0m \u001b[1m0s\u001b[0m 5ms/step - loss: 0.0023 - val_loss: 0.2817\n",
      "Epoch 51/100\n",
      "\u001b[1m35/35\u001b[0m \u001b[32m━━━━━━━━━━━━━━━━━━━━\u001b[0m\u001b[37m\u001b[0m \u001b[1m0s\u001b[0m 5ms/step - loss: 0.0025 - val_loss: 0.2841\n",
      "Epoch 52/100\n",
      "\u001b[1m35/35\u001b[0m \u001b[32m━━━━━━━━━━━━━━━━━━━━\u001b[0m\u001b[37m\u001b[0m \u001b[1m0s\u001b[0m 5ms/step - loss: 0.0026 - val_loss: 0.2858\n",
      "Epoch 53/100\n",
      "\u001b[1m35/35\u001b[0m \u001b[32m━━━━━━━━━━━━━━━━━━━━\u001b[0m\u001b[37m\u001b[0m \u001b[1m0s\u001b[0m 5ms/step - loss: 0.0025 - val_loss: 0.2824\n",
      "Epoch 54/100\n",
      "\u001b[1m35/35\u001b[0m \u001b[32m━━━━━━━━━━━━━━━━━━━━\u001b[0m\u001b[37m\u001b[0m \u001b[1m0s\u001b[0m 5ms/step - loss: 0.0026 - val_loss: 0.2763\n",
      "Epoch 55/100\n",
      "\u001b[1m35/35\u001b[0m \u001b[32m━━━━━━━━━━━━━━━━━━━━\u001b[0m\u001b[37m\u001b[0m \u001b[1m0s\u001b[0m 8ms/step - loss: 0.0025 - val_loss: 0.2819\n",
      "Epoch 56/100\n",
      "\u001b[1m35/35\u001b[0m \u001b[32m━━━━━━━━━━━━━━━━━━━━\u001b[0m\u001b[37m\u001b[0m \u001b[1m0s\u001b[0m 7ms/step - loss: 0.0026 - val_loss: 0.2826\n",
      "Epoch 57/100\n",
      "\u001b[1m35/35\u001b[0m \u001b[32m━━━━━━━━━━━━━━━━━━━━\u001b[0m\u001b[37m\u001b[0m \u001b[1m0s\u001b[0m 7ms/step - loss: 0.0024 - val_loss: 0.2822\n",
      "Epoch 58/100\n",
      "\u001b[1m35/35\u001b[0m \u001b[32m━━━━━━━━━━━━━━━━━━━━\u001b[0m\u001b[37m\u001b[0m \u001b[1m0s\u001b[0m 8ms/step - loss: 0.0025 - val_loss: 0.2811\n",
      "Epoch 59/100\n",
      "\u001b[1m35/35\u001b[0m \u001b[32m━━━━━━━━━━━━━━━━━━━━\u001b[0m\u001b[37m\u001b[0m \u001b[1m0s\u001b[0m 7ms/step - loss: 0.0025 - val_loss: 0.2806\n",
      "Epoch 60/100\n",
      "\u001b[1m35/35\u001b[0m \u001b[32m━━━━━━━━━━━━━━━━━━━━\u001b[0m\u001b[37m\u001b[0m \u001b[1m0s\u001b[0m 5ms/step - loss: 0.0024 - val_loss: 0.2762\n",
      "Epoch 61/100\n",
      "\u001b[1m35/35\u001b[0m \u001b[32m━━━━━━━━━━━━━━━━━━━━\u001b[0m\u001b[37m\u001b[0m \u001b[1m0s\u001b[0m 5ms/step - loss: 0.0025 - val_loss: 0.2882\n",
      "Epoch 62/100\n",
      "\u001b[1m35/35\u001b[0m \u001b[32m━━━━━━━━━━━━━━━━━━━━\u001b[0m\u001b[37m\u001b[0m \u001b[1m0s\u001b[0m 5ms/step - loss: 0.0025 - val_loss: 0.2822\n",
      "Epoch 63/100\n",
      "\u001b[1m35/35\u001b[0m \u001b[32m━━━━━━━━━━━━━━━━━━━━\u001b[0m\u001b[37m\u001b[0m \u001b[1m0s\u001b[0m 5ms/step - loss: 0.0026 - val_loss: 0.2831\n",
      "Epoch 64/100\n",
      "\u001b[1m35/35\u001b[0m \u001b[32m━━━━━━━━━━━━━━━━━━━━\u001b[0m\u001b[37m\u001b[0m \u001b[1m0s\u001b[0m 5ms/step - loss: 0.0025 - val_loss: 0.2793\n",
      "Epoch 65/100\n",
      "\u001b[1m35/35\u001b[0m \u001b[32m━━━━━━━━━━━━━━━━━━━━\u001b[0m\u001b[37m\u001b[0m \u001b[1m0s\u001b[0m 5ms/step - loss: 0.0026 - val_loss: 0.2864\n",
      "Epoch 66/100\n",
      "\u001b[1m35/35\u001b[0m \u001b[32m━━━━━━━━━━━━━━━━━━━━\u001b[0m\u001b[37m\u001b[0m \u001b[1m0s\u001b[0m 5ms/step - loss: 0.0024 - val_loss: 0.2743\n",
      "Epoch 67/100\n",
      "\u001b[1m35/35\u001b[0m \u001b[32m━━━━━━━━━━━━━━━━━━━━\u001b[0m\u001b[37m\u001b[0m \u001b[1m0s\u001b[0m 5ms/step - loss: 0.0026 - val_loss: 0.2823\n",
      "Epoch 68/100\n",
      "\u001b[1m35/35\u001b[0m \u001b[32m━━━━━━━━━━━━━━━━━━━━\u001b[0m\u001b[37m\u001b[0m \u001b[1m0s\u001b[0m 5ms/step - loss: 0.0025 - val_loss: 0.2819\n",
      "Epoch 69/100\n",
      "\u001b[1m35/35\u001b[0m \u001b[32m━━━━━━━━━━━━━━━━━━━━\u001b[0m\u001b[37m\u001b[0m \u001b[1m0s\u001b[0m 5ms/step - loss: 0.0025 - val_loss: 0.2788\n",
      "Epoch 70/100\n",
      "\u001b[1m35/35\u001b[0m \u001b[32m━━━━━━━━━━━━━━━━━━━━\u001b[0m\u001b[37m\u001b[0m \u001b[1m0s\u001b[0m 5ms/step - loss: 0.0026 - val_loss: 0.2863\n",
      "Epoch 71/100\n",
      "\u001b[1m35/35\u001b[0m \u001b[32m━━━━━━━━━━━━━━━━━━━━\u001b[0m\u001b[37m\u001b[0m \u001b[1m0s\u001b[0m 5ms/step - loss: 0.0024 - val_loss: 0.2780\n",
      "Epoch 72/100\n",
      "\u001b[1m35/35\u001b[0m \u001b[32m━━━━━━━━━━━━━━━━━━━━\u001b[0m\u001b[37m\u001b[0m \u001b[1m0s\u001b[0m 5ms/step - loss: 0.0023 - val_loss: 0.2815\n",
      "Epoch 73/100\n",
      "\u001b[1m35/35\u001b[0m \u001b[32m━━━━━━━━━━━━━━━━━━━━\u001b[0m\u001b[37m\u001b[0m \u001b[1m0s\u001b[0m 5ms/step - loss: 0.0026 - val_loss: 0.2836\n",
      "Epoch 74/100\n",
      "\u001b[1m35/35\u001b[0m \u001b[32m━━━━━━━━━━━━━━━━━━━━\u001b[0m\u001b[37m\u001b[0m \u001b[1m0s\u001b[0m 5ms/step - loss: 0.0027 - val_loss: 0.2852\n",
      "Epoch 75/100\n",
      "\u001b[1m35/35\u001b[0m \u001b[32m━━━━━━━━━━━━━━━━━━━━\u001b[0m\u001b[37m\u001b[0m \u001b[1m0s\u001b[0m 5ms/step - loss: 0.0026 - val_loss: 0.2767\n",
      "Epoch 76/100\n",
      "\u001b[1m35/35\u001b[0m \u001b[32m━━━━━━━━━━━━━━━━━━━━\u001b[0m\u001b[37m\u001b[0m \u001b[1m0s\u001b[0m 5ms/step - loss: 0.0024 - val_loss: 0.2791\n",
      "Epoch 77/100\n",
      "\u001b[1m35/35\u001b[0m \u001b[32m━━━━━━━━━━━━━━━━━━━━\u001b[0m\u001b[37m\u001b[0m \u001b[1m0s\u001b[0m 5ms/step - loss: 0.0023 - val_loss: 0.2871\n",
      "Epoch 78/100\n",
      "\u001b[1m35/35\u001b[0m \u001b[32m━━━━━━━━━━━━━━━━━━━━\u001b[0m\u001b[37m\u001b[0m \u001b[1m0s\u001b[0m 5ms/step - loss: 0.0024 - val_loss: 0.2821\n",
      "Epoch 79/100\n",
      "\u001b[1m35/35\u001b[0m \u001b[32m━━━━━━━━━━━━━━━━━━━━\u001b[0m\u001b[37m\u001b[0m \u001b[1m0s\u001b[0m 5ms/step - loss: 0.0025 - val_loss: 0.2813\n",
      "Epoch 80/100\n",
      "\u001b[1m35/35\u001b[0m \u001b[32m━━━━━━━━━━━━━━━━━━━━\u001b[0m\u001b[37m\u001b[0m \u001b[1m0s\u001b[0m 5ms/step - loss: 0.0026 - val_loss: 0.2837\n",
      "Epoch 81/100\n",
      "\u001b[1m35/35\u001b[0m \u001b[32m━━━━━━━━━━━━━━━━━━━━\u001b[0m\u001b[37m\u001b[0m \u001b[1m0s\u001b[0m 5ms/step - loss: 0.0024 - val_loss: 0.2866\n",
      "Epoch 82/100\n",
      "\u001b[1m35/35\u001b[0m \u001b[32m━━━━━━━━━━━━━━━━━━━━\u001b[0m\u001b[37m\u001b[0m \u001b[1m0s\u001b[0m 5ms/step - loss: 0.0026 - val_loss: 0.2842\n",
      "Epoch 83/100\n",
      "\u001b[1m35/35\u001b[0m \u001b[32m━━━━━━━━━━━━━━━━━━━━\u001b[0m\u001b[37m\u001b[0m \u001b[1m0s\u001b[0m 5ms/step - loss: 0.0024 - val_loss: 0.2807\n",
      "Epoch 84/100\n",
      "\u001b[1m35/35\u001b[0m \u001b[32m━━━━━━━━━━━━━━━━━━━━\u001b[0m\u001b[37m\u001b[0m \u001b[1m0s\u001b[0m 5ms/step - loss: 0.0025 - val_loss: 0.2815\n",
      "Epoch 85/100\n",
      "\u001b[1m35/35\u001b[0m \u001b[32m━━━━━━━━━━━━━━━━━━━━\u001b[0m\u001b[37m\u001b[0m \u001b[1m0s\u001b[0m 4ms/step - loss: 0.0026 - val_loss: 0.2861\n",
      "Epoch 86/100\n",
      "\u001b[1m35/35\u001b[0m \u001b[32m━━━━━━━━━━━━━━━━━━━━\u001b[0m\u001b[37m\u001b[0m \u001b[1m0s\u001b[0m 5ms/step - loss: 0.0025 - val_loss: 0.2786\n",
      "Epoch 87/100\n",
      "\u001b[1m35/35\u001b[0m \u001b[32m━━━━━━━━━━━━━━━━━━━━\u001b[0m\u001b[37m\u001b[0m \u001b[1m0s\u001b[0m 5ms/step - loss: 0.0026 - val_loss: 0.2821\n",
      "Epoch 88/100\n",
      "\u001b[1m35/35\u001b[0m \u001b[32m━━━━━━━━━━━━━━━━━━━━\u001b[0m\u001b[37m\u001b[0m \u001b[1m0s\u001b[0m 4ms/step - loss: 0.0024 - val_loss: 0.2861\n",
      "Epoch 89/100\n",
      "\u001b[1m35/35\u001b[0m \u001b[32m━━━━━━━━━━━━━━━━━━━━\u001b[0m\u001b[37m\u001b[0m \u001b[1m0s\u001b[0m 5ms/step - loss: 0.0023 - val_loss: 0.2814\n",
      "Epoch 90/100\n",
      "\u001b[1m35/35\u001b[0m \u001b[32m━━━━━━━━━━━━━━━━━━━━\u001b[0m\u001b[37m\u001b[0m \u001b[1m0s\u001b[0m 5ms/step - loss: 0.0024 - val_loss: 0.2834\n",
      "Epoch 91/100\n",
      "\u001b[1m35/35\u001b[0m \u001b[32m━━━━━━━━━━━━━━━━━━━━\u001b[0m\u001b[37m\u001b[0m \u001b[1m0s\u001b[0m 5ms/step - loss: 0.0024 - val_loss: 0.2828\n",
      "Epoch 92/100\n",
      "\u001b[1m35/35\u001b[0m \u001b[32m━━━━━━━━━━━━━━━━━━━━\u001b[0m\u001b[37m\u001b[0m \u001b[1m0s\u001b[0m 5ms/step - loss: 0.0025 - val_loss: 0.2818\n",
      "Epoch 93/100\n",
      "\u001b[1m35/35\u001b[0m \u001b[32m━━━━━━━━━━━━━━━━━━━━\u001b[0m\u001b[37m\u001b[0m \u001b[1m0s\u001b[0m 5ms/step - loss: 0.0025 - val_loss: 0.2800\n",
      "Epoch 94/100\n",
      "\u001b[1m35/35\u001b[0m \u001b[32m━━━━━━━━━━━━━━━━━━━━\u001b[0m\u001b[37m\u001b[0m \u001b[1m0s\u001b[0m 5ms/step - loss: 0.0025 - val_loss: 0.2928\n",
      "Epoch 95/100\n",
      "\u001b[1m35/35\u001b[0m \u001b[32m━━━━━━━━━━━━━━━━━━━━\u001b[0m\u001b[37m\u001b[0m \u001b[1m0s\u001b[0m 5ms/step - loss: 0.0024 - val_loss: 0.2905\n",
      "Epoch 96/100\n",
      "\u001b[1m35/35\u001b[0m \u001b[32m━━━━━━━━━━━━━━━━━━━━\u001b[0m\u001b[37m\u001b[0m \u001b[1m0s\u001b[0m 5ms/step - loss: 0.0024 - val_loss: 0.2817\n",
      "Epoch 97/100\n",
      "\u001b[1m35/35\u001b[0m \u001b[32m━━━━━━━━━━━━━━━━━━━━\u001b[0m\u001b[37m\u001b[0m \u001b[1m0s\u001b[0m 5ms/step - loss: 0.0024 - val_loss: 0.2756\n",
      "Epoch 98/100\n",
      "\u001b[1m35/35\u001b[0m \u001b[32m━━━━━━━━━━━━━━━━━━━━\u001b[0m\u001b[37m\u001b[0m \u001b[1m0s\u001b[0m 5ms/step - loss: 0.0027 - val_loss: 0.2775\n",
      "Epoch 99/100\n",
      "\u001b[1m35/35\u001b[0m \u001b[32m━━━━━━━━━━━━━━━━━━━━\u001b[0m\u001b[37m\u001b[0m \u001b[1m0s\u001b[0m 5ms/step - loss: 0.0026 - val_loss: 0.2826\n",
      "Epoch 100/100\n",
      "\u001b[1m35/35\u001b[0m \u001b[32m━━━━━━━━━━━━━━━━━━━━\u001b[0m\u001b[37m\u001b[0m \u001b[1m0s\u001b[0m 5ms/step - loss: 0.0025 - val_loss: 0.2867\n"
     ]
    }
   ],
   "source": [
    "history = dnn.fit(X_train, Y_train, epochs=100, batch_size=32, validation_data=(X_test, Y_test))"
   ]
  },
  {
   "cell_type": "code",
   "execution_count": 139,
   "metadata": {},
   "outputs": [
    {
     "name": "stdout",
     "output_type": "stream",
     "text": [
      "\u001b[1m15/15\u001b[0m \u001b[32m━━━━━━━━━━━━━━━━━━━━\u001b[0m\u001b[37m\u001b[0m \u001b[1m0s\u001b[0m 3ms/step \n",
      "[[ 0.08555791]\n",
      " [ 0.08252351]\n",
      " [ 0.05793367]\n",
      " [ 0.07782389]\n",
      " [ 0.09276379]\n",
      " [ 0.06173766]\n",
      " [ 0.09285325]\n",
      " [ 0.07839711]\n",
      " [ 0.07637918]\n",
      " [ 0.07595335]\n",
      " [ 0.07430569]\n",
      " [ 0.08019608]\n",
      " [ 0.08628938]\n",
      " [ 0.07393535]\n",
      " [ 0.07703377]\n",
      " [ 0.09361823]\n",
      " [ 0.07383824]\n",
      " [ 0.0788538 ]\n",
      " [ 0.0735397 ]\n",
      " [ 0.09254999]\n",
      " [ 0.07158429]\n",
      " [ 0.07537274]\n",
      " [ 0.07300346]\n",
      " [ 0.09533738]\n",
      " [ 0.07868589]\n",
      " [ 0.08655511]\n",
      " [ 0.07086068]\n",
      " [ 0.07352453]\n",
      " [ 0.07733446]\n",
      " [ 0.07424979]\n",
      " [ 0.07780841]\n",
      " [ 0.07041235]\n",
      " [ 0.08777168]\n",
      " [ 0.08438793]\n",
      " [ 0.0776756 ]\n",
      " [ 0.07717644]\n",
      " [ 0.07226771]\n",
      " [ 0.0732135 ]\n",
      " [ 0.0687284 ]\n",
      " [ 0.08149233]\n",
      " [ 0.07256778]\n",
      " [ 0.07703143]\n",
      " [ 0.08455826]\n",
      " [ 0.08038857]\n",
      " [ 0.07792707]\n",
      " [ 0.07052997]\n",
      " [ 0.08224284]\n",
      " [ 0.07734033]\n",
      " [ 0.07596624]\n",
      " [ 0.08217484]\n",
      " [ 0.05925177]\n",
      " [ 0.07858531]\n",
      " [ 0.07226381]\n",
      " [ 0.05040584]\n",
      " [ 0.08877774]\n",
      " [ 0.08345462]\n",
      " [ 0.08381228]\n",
      " [ 0.07821375]\n",
      " [ 0.10308097]\n",
      " [ 0.08096583]\n",
      " [ 0.07695967]\n",
      " [ 0.07885504]\n",
      " [ 0.0854436 ]\n",
      " [ 0.07446679]\n",
      " [ 0.08625417]\n",
      " [ 0.08283506]\n",
      " [ 0.08409558]\n",
      " [ 0.09758138]\n",
      " [ 0.09400237]\n",
      " [ 0.07532341]\n",
      " [ 0.08530265]\n",
      " [ 0.10543884]\n",
      " [ 0.09895077]\n",
      " [ 0.07352202]\n",
      " [ 0.09707443]\n",
      " [ 0.08757561]\n",
      " [ 0.07364067]\n",
      " [ 0.07357723]\n",
      " [ 0.08032395]\n",
      " [ 0.07935558]\n",
      " [ 0.07974216]\n",
      " [ 0.0956024 ]\n",
      " [ 0.08575036]\n",
      " [ 0.07401877]\n",
      " [ 0.09358282]\n",
      " [ 0.08745662]\n",
      " [ 0.09432501]\n",
      " [ 0.09820431]\n",
      " [ 0.04321838]\n",
      " [ 0.0778291 ]\n",
      " [ 0.07399163]\n",
      " [ 0.07212988]\n",
      " [ 0.09741443]\n",
      " [ 0.07345727]\n",
      " [ 0.08485964]\n",
      " [ 0.09145734]\n",
      " [ 0.08809699]\n",
      " [ 0.07365284]\n",
      " [ 0.07146933]\n",
      " [ 0.08200771]\n",
      " [ 0.07974856]\n",
      " [ 0.09132732]\n",
      " [ 0.09581846]\n",
      " [ 0.08851223]\n",
      " [ 0.08737668]\n",
      " [ 0.08880909]\n",
      " [ 0.08853689]\n",
      " [ 0.0846319 ]\n",
      " [ 0.09259778]\n",
      " [ 0.0857956 ]\n",
      " [ 0.07653323]\n",
      " [ 0.07194239]\n",
      " [ 0.00225069]\n",
      " [ 0.04992758]\n",
      " [ 0.08087596]\n",
      " [ 0.0861093 ]\n",
      " [ 0.07820064]\n",
      " [ 0.09480831]\n",
      " [ 0.08937541]\n",
      " [ 0.0783065 ]\n",
      " [ 0.09027505]\n",
      " [ 0.09554892]\n",
      " [ 0.09873246]\n",
      " [ 0.09496788]\n",
      " [ 0.0833572 ]\n",
      " [ 0.0883728 ]\n",
      " [ 0.07256807]\n",
      " [ 0.08530299]\n",
      " [ 0.08893569]\n",
      " [ 0.08181451]\n",
      " [ 0.07605967]\n",
      " [ 0.07933629]\n",
      " [ 0.0906449 ]\n",
      " [ 0.08161129]\n",
      " [ 0.08008678]\n",
      " [ 0.07908724]\n",
      " [ 0.08070441]\n",
      " [ 0.08333649]\n",
      " [ 0.08568017]\n",
      " [ 0.09858537]\n",
      " [ 0.07644796]\n",
      " [ 0.09249552]\n",
      " [ 0.08300301]\n",
      " [ 0.0845032 ]\n",
      " [ 0.07650723]\n",
      " [ 0.08181611]\n",
      " [ 0.09451023]\n",
      " [ 0.08266295]\n",
      " [ 0.07348801]\n",
      " [ 0.04767622]\n",
      " [ 0.08882115]\n",
      " [ 0.08902156]\n",
      " [ 0.09479687]\n",
      " [ 0.08247475]\n",
      " [ 0.08365163]\n",
      " [ 0.07473473]\n",
      " [ 0.08317579]\n",
      " [ 0.08560707]\n",
      " [ 0.08213823]\n",
      " [ 0.08867964]\n",
      " [ 0.08258325]\n",
      " [ 0.08494675]\n",
      " [ 0.08628594]\n",
      " [ 0.07584618]\n",
      " [ 0.07021645]\n",
      " [ 0.07952918]\n",
      " [ 0.09311219]\n",
      " [ 0.09036836]\n",
      " [ 0.0743126 ]\n",
      " [ 0.09849331]\n",
      " [ 0.08619133]\n",
      " [ 0.08693799]\n",
      " [ 0.08265501]\n",
      " [ 0.10179824]\n",
      " [ 0.09899557]\n",
      " [ 0.05095919]\n",
      " [ 0.07464125]\n",
      " [ 0.08340943]\n",
      " [ 0.08391508]\n",
      " [ 0.08259012]\n",
      " [ 0.09505472]\n",
      " [ 0.07639951]\n",
      " [ 0.08275552]\n",
      " [ 0.07696602]\n",
      " [ 0.08632562]\n",
      " [ 0.07454642]\n",
      " [ 0.0937186 ]\n",
      " [ 0.08872662]\n",
      " [ 0.08175579]\n",
      " [ 0.08315525]\n",
      " [ 0.07396202]\n",
      " [ 0.09510742]\n",
      " [ 0.08910811]\n",
      " [ 0.0894772 ]\n",
      " [ 0.07469031]\n",
      " [ 0.08419029]\n",
      " [ 0.08070546]\n",
      " [ 0.08599745]\n",
      " [ 0.09656173]\n",
      " [ 0.09094712]\n",
      " [ 0.07890873]\n",
      " [ 0.08393153]\n",
      " [ 0.07326881]\n",
      " [ 0.07822025]\n",
      " [ 0.07970444]\n",
      " [ 0.08942471]\n",
      " [ 0.07316573]\n",
      " [ 0.08979917]\n",
      " [ 0.08591909]\n",
      " [ 0.07568428]\n",
      " [ 0.083847  ]\n",
      " [ 0.0866259 ]\n",
      " [ 0.08362574]\n",
      " [ 0.10137972]\n",
      " [ 0.08771814]\n",
      " [ 0.09464011]\n",
      " [ 0.09834074]\n",
      " [ 0.09970219]\n",
      " [ 0.09057994]\n",
      " [ 0.0790775 ]\n",
      " [ 0.10139396]\n",
      " [ 0.09638485]\n",
      " [ 0.08147464]\n",
      " [ 0.09407759]\n",
      " [ 0.08841474]\n",
      " [ 0.0755777 ]\n",
      " [ 0.10298066]\n",
      " [ 0.09381443]\n",
      " [ 0.09568263]\n",
      " [ 0.09476805]\n",
      " [ 0.09543251]\n",
      " [ 0.09770106]\n",
      " [ 0.09460592]\n",
      " [ 0.10272241]\n",
      " [ 0.08565847]\n",
      " [ 0.07669259]\n",
      " [-0.10299435]\n",
      " [ 0.06019692]\n",
      " [ 0.1035189 ]\n",
      " [ 0.09940351]\n",
      " [ 0.08712783]\n",
      " [ 0.09317844]\n",
      " [ 0.10469496]\n",
      " [ 0.09319916]\n",
      " [ 0.10045599]\n",
      " [ 0.09709571]\n",
      " [ 0.0951587 ]\n",
      " [ 0.03230621]\n",
      " [ 0.08568815]\n",
      " [ 0.0735872 ]\n",
      " [ 0.06034059]\n",
      " [ 0.08516939]\n",
      " [ 0.08948155]\n",
      " [ 0.00481623]\n",
      " [-0.01309821]\n",
      " [ 0.09478626]\n",
      " [ 0.09486616]\n",
      " [ 0.09391721]\n",
      " [ 0.08389071]\n",
      " [ 0.09800719]\n",
      " [ 0.09667848]\n",
      " [ 0.09585719]\n",
      " [ 0.08421241]\n",
      " [ 0.08640124]\n",
      " [ 0.08023914]\n",
      " [ 0.09583572]\n",
      " [ 0.09303395]\n",
      " [ 0.07654133]\n",
      " [ 0.09662256]\n",
      " [ 0.09557185]\n",
      " [ 0.09536078]\n",
      " [ 0.08089867]\n",
      " [ 0.08865323]\n",
      " [ 0.08553265]\n",
      " [ 0.0885009 ]\n",
      " [ 0.08694968]\n",
      " [ 0.05723323]\n",
      " [ 0.08985729]\n",
      " [ 0.10422362]\n",
      " [ 0.09806936]\n",
      " [ 0.09463999]\n",
      " [ 0.09302914]\n",
      " [ 0.09140961]\n",
      " [ 0.0756584 ]\n",
      " [ 0.09206721]\n",
      " [ 0.08626547]\n",
      " [ 0.07415022]\n",
      " [ 0.07772152]\n",
      " [ 0.08261481]\n",
      " [ 0.09506275]\n",
      " [ 0.08659937]\n",
      " [ 0.09501165]\n",
      " [ 0.0900511 ]\n",
      " [ 0.08942109]\n",
      " [ 0.08962704]\n",
      " [ 0.08762084]\n",
      " [ 0.08905745]\n",
      " [ 0.09542158]\n",
      " [ 0.06762067]\n",
      " [ 0.07116926]\n",
      " [-0.14362328]\n",
      " [ 0.10336123]\n",
      " [ 0.09167174]\n",
      " [ 0.09956923]\n",
      " [ 0.10000671]\n",
      " [ 0.07696831]\n",
      " [ 0.0390612 ]\n",
      " [ 0.02680528]\n",
      " [ 0.05347007]\n",
      " [ 0.07547087]\n",
      " [ 0.09346211]\n",
      " [ 0.0955376 ]\n",
      " [ 0.08943941]\n",
      " [ 0.02311232]\n",
      " [ 0.08889924]\n",
      " [ 0.08362516]\n",
      " [ 0.09506334]\n",
      " [ 0.0963054 ]\n",
      " [ 0.10175617]\n",
      " [ 0.09036621]\n",
      " [ 0.09444183]\n",
      " [ 0.04913086]\n",
      " [ 0.02575482]\n",
      " [ 0.09721663]\n",
      " [ 0.08780941]\n",
      " [ 0.09680837]\n",
      " [ 0.09882513]\n",
      " [ 0.08512427]\n",
      " [ 0.09442176]\n",
      " [ 0.03462098]\n",
      " [ 0.09094958]\n",
      " [ 0.09919935]\n",
      " [ 0.08108671]\n",
      " [ 0.08515726]\n",
      " [ 0.09028415]\n",
      " [ 0.08547092]\n",
      " [ 0.08612096]\n",
      " [ 0.0813948 ]\n",
      " [ 0.08347012]\n",
      " [ 0.06925146]\n",
      " [ 0.09465057]\n",
      " [ 0.08136272]\n",
      " [ 0.08497471]\n",
      " [ 0.08031549]\n",
      " [ 0.08438668]\n",
      " [ 0.08708017]\n",
      " [ 0.10500469]\n",
      " [ 0.08373288]\n",
      " [ 0.08556434]\n",
      " [ 0.09961192]\n",
      " [ 0.08796911]\n",
      " [ 0.07970975]\n",
      " [ 0.07914608]\n",
      " [ 0.08026789]\n",
      " [ 0.07310032]\n",
      " [ 0.07271307]\n",
      " [ 0.08750308]\n",
      " [ 0.09336555]\n",
      " [ 0.06996001]\n",
      " [ 0.07354619]\n",
      " [ 0.07497491]\n",
      " [ 0.07566436]\n",
      " [ 0.08062406]\n",
      " [ 0.07293913]\n",
      " [ 0.0927501 ]\n",
      " [ 0.08291346]\n",
      " [ 0.09573964]\n",
      " [-0.10072023]\n",
      " [ 0.07752741]\n",
      " [ 0.08070979]\n",
      " [ 0.07067828]\n",
      " [ 0.07172146]\n",
      " [ 0.07800858]\n",
      " [ 0.0750839 ]\n",
      " [ 0.07433736]\n",
      " [ 0.07964354]\n",
      " [ 0.08247873]\n",
      " [ 0.08116432]\n",
      " [ 0.08793978]\n",
      " [ 0.06958316]\n",
      " [ 0.07585497]\n",
      " [ 0.07679655]\n",
      " [ 0.08435288]\n",
      " [ 0.08331493]\n",
      " [ 0.07968692]\n",
      " [ 0.06801178]\n",
      " [ 0.08246049]\n",
      " [ 0.07321016]\n",
      " [ 0.08180674]\n",
      " [ 0.07839233]\n",
      " [ 0.0847448 ]\n",
      " [ 0.08148919]\n",
      " [ 0.08091522]\n",
      " [ 0.08695298]\n",
      " [ 0.08323787]\n",
      " [ 0.07959723]\n",
      " [ 0.08760448]\n",
      " [ 0.08393407]\n",
      " [ 0.09038667]\n",
      " [ 0.07270959]\n",
      " [ 0.08400407]\n",
      " [ 0.08073273]\n",
      " [ 0.10416137]\n",
      " [ 0.0824516 ]\n",
      " [ 0.08929734]\n",
      " [ 0.09590402]\n",
      " [ 0.08815417]\n",
      " [ 0.09300786]\n",
      " [ 0.09091471]\n",
      " [ 0.08472143]\n",
      " [ 0.09661417]\n",
      " [ 0.08613009]\n",
      " [ 0.08500992]\n",
      " [ 0.08150896]\n",
      " [ 0.05511845]\n",
      " [ 0.0962875 ]\n",
      " [ 0.10222269]\n",
      " [ 0.02098332]\n",
      " [ 0.08578528]\n",
      " [ 0.09982762]\n",
      " [ 0.10067496]\n",
      " [ 0.02429784]\n",
      " [-0.17725912]\n",
      " [ 0.09121072]\n",
      " [ 0.07498764]\n",
      " [ 0.09295088]\n",
      " [ 0.08399658]\n",
      " [ 0.09473437]\n",
      " [ 0.08469455]\n",
      " [ 0.10009948]\n",
      " [ 0.10064613]\n",
      " [ 0.10430191]\n",
      " [ 0.09249225]\n",
      " [ 0.08817892]\n",
      " [ 0.08866817]\n",
      " [ 0.08505942]\n",
      " [ 0.08838345]\n",
      " [ 0.09273139]\n",
      " [ 0.08182119]\n",
      " [ 0.07546964]\n",
      " [ 0.09212612]\n",
      " [ 0.08185918]\n",
      " [ 0.09582371]\n",
      " [ 0.09039126]\n",
      " [ 0.10362369]\n",
      " [ 0.09396173]\n",
      " [ 0.08690492]\n",
      " [ 0.09074477]\n",
      " [ 0.10174312]\n",
      " [ 0.08757079]\n",
      " [ 0.10068053]\n",
      " [ 0.08795324]\n",
      " [-0.01204637]\n",
      " [ 0.09952912]\n",
      " [ 0.08591612]\n",
      " [ 0.07229142]\n",
      " [ 0.09604264]\n",
      " [ 0.08862355]\n",
      " [ 0.09065983]\n",
      " [ 0.09632147]\n",
      " [ 0.08552292]\n",
      " [ 0.10021181]\n",
      " [ 0.09718888]\n",
      " [ 0.09725758]\n",
      " [ 0.07586467]\n",
      " [ 0.09486455]\n",
      " [ 0.10528852]\n",
      " [ 0.09242403]\n",
      " [ 0.09154883]\n",
      " [ 0.08468407]\n",
      " [ 0.08882602]\n",
      " [ 0.0828227 ]\n",
      " [ 0.08950602]\n",
      " [ 0.086946  ]\n",
      " [ 0.10151191]\n",
      " [ 0.10336877]\n",
      " [ 0.11518995]\n",
      " [ 0.03452743]]\n"
     ]
    }
   ],
   "source": [
    "prediction = dnn.predict(X_test) \n",
    "print(prediction)"
   ]
  },
  {
   "cell_type": "code",
   "execution_count": 135,
   "metadata": {},
   "outputs": [],
   "source": [
    "X_train, X_test, Y_train,Y_test = traintest(df_transformed)"
   ]
  },
  {
   "cell_type": "code",
   "execution_count": 140,
   "metadata": {},
   "outputs": [
    {
     "data": {
      "text/plain": [
       "478"
      ]
     },
     "execution_count": 140,
     "metadata": {},
     "output_type": "execute_result"
    }
   ],
   "source": [
    "len(Y_test)"
   ]
  },
  {
   "cell_type": "code",
   "execution_count": 141,
   "metadata": {},
   "outputs": [
    {
     "data": {
      "text/plain": [
       "478"
      ]
     },
     "execution_count": 141,
     "metadata": {},
     "output_type": "execute_result"
    }
   ],
   "source": [
    "len(prediction)"
   ]
  },
  {
   "cell_type": "code",
   "execution_count": 142,
   "metadata": {},
   "outputs": [
    {
     "name": "stdout",
     "output_type": "stream",
     "text": [
      "-2.8887409652768268\n"
     ]
    }
   ],
   "source": [
    "print(r2_score(Y_test,prediction))"
   ]
  },
  {
   "cell_type": "code",
   "execution_count": 143,
   "metadata": {},
   "outputs": [
    {
     "data": {
      "image/png": "[encoded data removed]",
      "text/plain": [
       "<Figure size 640x480 with 1 Axes>"
      ]
     },
     "metadata": {},
     "output_type": "display_data"
    }
   ],
   "source": [
    "import matplotlib.pyplot as plt\n",
    "\n",
    "plt.scatter(Y_test,prediction, color='red')\n",
    "plt.ylabel('Prediction')\n",
    "plt.xlabel('Actual')\n",
    "plt.show()"
   ]
  },
  {
   "cell_type": "code",
   "execution_count": 145,
   "metadata": {},
   "outputs": [
    {
     "data": {
      "text/plain": [
       "True"
      ]
     },
     "execution_count": 145,
     "metadata": {},
     "output_type": "execute_result"
    }
   ],
   "source": [
    "conn.close()\n",
    "\n",
    "mycursor.close()"
   ]
  }
 ],
 "metadata": {
  "kernelspec": {
   "display_name": "Python 3",
   "language": "python",
   "name": "python3"
  },
  "language_info": {
   "codemirror_mode": {
    "name": "ipython",
    "version": 3
   },
   "file_extension": ".py",
   "mimetype": "text/x-python",
   "name": "python",
   "nbconvert_exporter": "python",
   "pygments_lexer": "ipython3",
   "version": "3.10.0"
  }
 },
 "nbformat": 4,
 "nbformat_minor": 2
}
