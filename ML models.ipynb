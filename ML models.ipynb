{
 "cells": [
  {
   "cell_type": "code",
   "execution_count": 20,
   "metadata": {},
   "outputs": [],
   "source": [
    "import mysql.connector as connector\n",
    "import sklearn\n",
    "import datetime \n",
    "import matplotlib.pyplot as plt\n",
    "import pandas as pd\n",
    "import seaborn as sns\n",
    "import xgboost\n",
    "import numpy as np\n",
    "import pickle\n",
    "\n",
    "from numpy import absolute\n",
    "from sklearn.model_selection import cross_val_score\n",
    "from sklearn.model_selection import RepeatedKFold\n",
    "from sklearn.linear_model import LinearRegression\n",
    "from xgboost import XGBRegressor\n",
    "from sklearn.metrics import mean_squared_error\n",
    "from sklearn.preprocessing import MinMaxScaler\n",
    "from sklearn.preprocessing import StandardScaler\n",
    "from sklearn.metrics import r2_score\n",
    "\n",
    "import tensorflow as tf\n",
    "from tensorflow import keras\n",
    "from keras.models import Sequential\n",
    "from keras.layers import LSTM, Dense, Dropout\n",
    "from keras.callbacks import EarlyStopping"
   ]
  },
  {
   "cell_type": "markdown",
   "metadata": {},
   "source": [
    "## SQL Connection & Import"
   ]
  },
  {
   "cell_type": "code",
   "execution_count": 2,
   "metadata": {},
   "outputs": [],
   "source": [
    "conn = connector.connect(user='root', password='123456', host='localhost', port='3306', database='my_db')\n",
    "\n",
    "mycursor = conn.cursor()"
   ]
  },
  {
   "cell_type": "code",
   "execution_count": 3,
   "metadata": {},
   "outputs": [],
   "source": [
    "mycursor.execute('SELECT * FROM price_sentiment')\n",
    "result = mycursor.fetchall()\n",
    "df = pd.DataFrame(result, columns = ['Date', 'Open', 'High', 'Low', 'Close', 'Volume', 'Dividends', 'Stock_Splits', 'Score', 'Positive' , 'Negative', 'Neutral', 'Total_Sentiment'])\n",
    "\n",
    "df.set_index('Date', drop = True, inplace=True)\n",
    "date = df.index\n",
    "df.drop(['Open', 'High', 'Low', 'Dividends', 'Stock_Splits', 'Score'], inplace=True, axis=1)"
   ]
  },
  {
   "cell_type": "code",
   "execution_count": 4,
   "metadata": {},
   "outputs": [
    {
     "data": {
      "application/vnd.microsoft.datawrangler.viewer.v0+json": {
       "columns": [
        {
         "name": "Date",
         "rawType": "object",
         "type": "unknown"
        },
        {
         "name": "Close",
         "rawType": "float64",
         "type": "float"
        },
        {
         "name": "Volume",
         "rawType": "float64",
         "type": "float"
        },
        {
         "name": "Positive",
         "rawType": "int64",
         "type": "integer"
        },
        {
         "name": "Negative",
         "rawType": "int64",
         "type": "integer"
        },
        {
         "name": "Neutral",
         "rawType": "int64",
         "type": "integer"
        },
        {
         "name": "Total_Sentiment",
         "rawType": "float64",
         "type": "float"
        }
       ],
       "conversionMethod": "pd.DataFrame",
       "ref": "279fee15-31aa-4929-915d-934c94fb25e2",
       "rows": [
        [
         "2014-01-06",
         "0.374438",
         "409492000.0",
         "0",
         "0",
         "1",
         "0.0"
        ],
        [
         "2014-04-23",
         "0.452159",
         "261580000.0",
         "0",
         "1",
         "0",
         "-1.0"
        ],
        [
         "2015-06-01",
         "0.54171",
         "372660000.0",
         "0",
         "0",
         "1",
         "0.0"
        ],
        [
         "2016-01-05",
         "0.802491",
         "490272000.0",
         "1",
         "0",
         "0",
         "1.0"
        ],
        [
         "2016-09-28",
         "1.64259",
         "319788000.0",
         "0",
         "0",
         "1",
         "0.0"
        ],
        [
         "2016-09-29",
         "1.65784",
         "336684000.0",
         "3",
         "0",
         "0",
         "3.0"
        ],
        [
         "2016-09-30",
         "1.68538",
         "429932000.0",
         "0",
         "0",
         "1",
         "0.0"
        ],
        [
         "2016-10-14",
         "1.62315",
         "330636000.0",
         "1",
         "0",
         "1",
         "1.0"
        ],
        [
         "2016-10-18",
         "1.6384",
         "269372000.0",
         "1",
         "0",
         "0",
         "1.0"
        ],
        [
         "2016-10-20",
         "1.66595",
         "312084000.0",
         "0",
         "0",
         "2",
         "0.0"
        ],
        [
         "2016-11-10",
         "1.66694",
         "869280000.0",
         "1",
         "0",
         "1",
         "1.0"
        ],
        [
         "2016-11-11",
         "2.1638",
         "2175340000.0",
         "1",
         "0",
         "0",
         "1.0"
        ],
        [
         "2016-11-14",
         "2.05729",
         "1348800000.0",
         "0",
         "0",
         "1",
         "0.0"
        ],
        [
         "2016-11-15",
         "2.12001",
         "626092000.0",
         "1",
         "0",
         "0",
         "1.0"
        ],
        [
         "2016-12-02",
         "2.17886",
         "478292000.0",
         "0",
         "0",
         "1",
         "0.0"
        ],
        [
         "2016-12-13",
         "2.24586",
         "387796000.0",
         "0",
         "1",
         "0",
         "-1.0"
        ],
        [
         "2016-12-28",
         "2.69124",
         "2295760000.0",
         "0",
         "0",
         "1",
         "0.0"
        ],
        [
         "2016-12-29",
         "2.74495",
         "2175370000.0",
         "0",
         "0",
         "1",
         "0.0"
        ],
        [
         "2017-01-25",
         "2.65528",
         "522760000.0",
         "1",
         "0",
         "0",
         "1.0"
        ],
        [
         "2017-01-31",
         "2.68952",
         "362756000.0",
         "0",
         "2",
         "0",
         "-1.0"
        ],
        [
         "2017-02-08",
         "2.92182",
         "449580000.0",
         "0",
         "0",
         "1",
         "0.0"
        ],
        [
         "2017-02-09",
         "2.86688",
         "842568000.0",
         "2",
         "0",
         "1",
         "2.0"
        ],
        [
         "2017-02-23",
         "2.47858",
         "1592890000.0",
         "4",
         "2",
         "0",
         "3.66667"
        ],
        [
         "2017-02-27",
         "2.57526",
         "715400000.0",
         "0",
         "0",
         "1",
         "0.0"
        ],
        [
         "2017-03-06",
         "2.40902",
         "883568000.0",
         "0",
         "0",
         "1",
         "0.0"
        ],
        [
         "2017-03-10",
         "2.44478",
         "499740000.0",
         "0",
         "0",
         "2",
         "0.0"
        ],
        [
         "2017-03-13",
         "2.51212",
         "774136000.0",
         "0",
         "4",
         "0",
         "-1.0"
        ],
        [
         "2017-03-14",
         "2.51039",
         "522016000.0",
         "1",
         "0",
         "0",
         "1.0"
        ],
        [
         "2017-03-15",
         "2.52938",
         "615036000.0",
         "1",
         "0",
         "2",
         "1.0"
        ],
        [
         "2017-03-16",
         "2.56046",
         "523100000.0",
         "1",
         "0",
         "1",
         "1.0"
        ],
        [
         "2017-03-23",
         "2.64136",
         "533940000.0",
         "0",
         "0",
         "1",
         "0.0"
        ],
        [
         "2017-03-24",
         "2.65074",
         "439500000.0",
         "0",
         "0",
         "1",
         "0.0"
        ],
        [
         "2017-03-28",
         "2.65616",
         "432444000.0",
         "0",
         "0",
         "1",
         "0.0"
        ],
        [
         "2017-04-04",
         "2.48573",
         "1271280000.0",
         "0",
         "5",
         "0",
         "-1.0"
        ],
        [
         "2017-04-10",
         "2.41149",
         "756332000.0",
         "0",
         "1",
         "0",
         "-1.0"
        ],
        [
         "2017-04-11",
         "2.42012",
         "618148000.0",
         "0",
         "0",
         "1",
         "0.0"
        ],
        [
         "2017-04-13",
         "2.35525",
         "506892000.0",
         "0",
         "2",
         "1",
         "-0.666667"
        ],
        [
         "2017-04-19",
         "2.4586",
         "380828000.0",
         "0",
         "0",
         "1",
         "0.0"
        ],
        [
         "2017-04-24",
         "2.53925",
         "371820000.0",
         "0",
         "0",
         "1",
         "0.0"
        ],
        [
         "2017-04-25",
         "2.5834",
         "388440000.0",
         "1",
         "0",
         "0",
         "1.0"
        ],
        [
         "2017-05-01",
         "2.63026",
         "307732000.0",
         "0",
         "0",
         "1",
         "0.0"
        ],
        [
         "2017-05-03",
         "2.57132",
         "336904000.0",
         "0",
         "0",
         "2",
         "0.0"
        ],
        [
         "2017-05-05",
         "2.5617",
         "228428000.0",
         "0",
         "0",
         "1",
         "0.0"
        ],
        [
         "2017-05-08",
         "2.53481",
         "365240000.0",
         "1",
         "0",
         "2",
         "1.0"
        ],
        [
         "2017-05-09",
         "2.539",
         "847672000.0",
         "1",
         "0",
         "0",
         "1.0"
        ],
        [
         "2017-05-10",
         "2.99161",
         "2129100000.0",
         "2",
         "7",
         "3",
         "1.41667"
        ],
        [
         "2017-05-11",
         "3.12011",
         "1939790000.0",
         "0",
         "0",
         "1",
         "0.0"
        ],
        [
         "2017-05-12",
         "3.15439",
         "962620000.0",
         "0",
         "0",
         "3",
         "0.0"
        ],
        [
         "2017-05-24",
         "3.42141",
         "815996000.0",
         "0",
         "1",
         "3",
         "-0.25"
        ],
        [
         "2017-05-25",
         "3.41376",
         "608228000.0",
         "1",
         "1",
         "0",
         "0.5"
        ]
       ],
       "shape": {
        "columns": 6,
        "rows": 1602
       }
      },
      "text/html": [
       "<div>\n",
       "<style scoped>\n",
       "    .dataframe tbody tr th:only-of-type {\n",
       "        vertical-align: middle;\n",
       "    }\n",
       "\n",
       "    .dataframe tbody tr th {\n",
       "        vertical-align: top;\n",
       "    }\n",
       "\n",
       "    .dataframe thead th {\n",
       "        text-align: right;\n",
       "    }\n",
       "</style>\n",
       "<table border=\"1\" class=\"dataframe\">\n",
       "  <thead>\n",
       "    <tr style=\"text-align: right;\">\n",
       "      <th></th>\n",
       "      <th>Close</th>\n",
       "      <th>Volume</th>\n",
       "      <th>Positive</th>\n",
       "      <th>Negative</th>\n",
       "      <th>Neutral</th>\n",
       "      <th>Total_Sentiment</th>\n",
       "    </tr>\n",
       "    <tr>\n",
       "      <th>Date</th>\n",
       "      <th></th>\n",
       "      <th></th>\n",
       "      <th></th>\n",
       "      <th></th>\n",
       "      <th></th>\n",
       "      <th></th>\n",
       "    </tr>\n",
       "  </thead>\n",
       "  <tbody>\n",
       "    <tr>\n",
       "      <th>2014-01-06</th>\n",
       "      <td>0.374438</td>\n",
       "      <td>409492000.0</td>\n",
       "      <td>0</td>\n",
       "      <td>0</td>\n",
       "      <td>1</td>\n",
       "      <td>0.00000</td>\n",
       "    </tr>\n",
       "    <tr>\n",
       "      <th>2014-04-23</th>\n",
       "      <td>0.452159</td>\n",
       "      <td>261580000.0</td>\n",
       "      <td>0</td>\n",
       "      <td>1</td>\n",
       "      <td>0</td>\n",
       "      <td>-1.00000</td>\n",
       "    </tr>\n",
       "    <tr>\n",
       "      <th>2015-06-01</th>\n",
       "      <td>0.541710</td>\n",
       "      <td>372660000.0</td>\n",
       "      <td>0</td>\n",
       "      <td>0</td>\n",
       "      <td>1</td>\n",
       "      <td>0.00000</td>\n",
       "    </tr>\n",
       "    <tr>\n",
       "      <th>2016-01-05</th>\n",
       "      <td>0.802491</td>\n",
       "      <td>490272000.0</td>\n",
       "      <td>1</td>\n",
       "      <td>0</td>\n",
       "      <td>0</td>\n",
       "      <td>1.00000</td>\n",
       "    </tr>\n",
       "    <tr>\n",
       "      <th>2016-09-28</th>\n",
       "      <td>1.642590</td>\n",
       "      <td>319788000.0</td>\n",
       "      <td>0</td>\n",
       "      <td>0</td>\n",
       "      <td>1</td>\n",
       "      <td>0.00000</td>\n",
       "    </tr>\n",
       "    <tr>\n",
       "      <th>...</th>\n",
       "      <td>...</td>\n",
       "      <td>...</td>\n",
       "      <td>...</td>\n",
       "      <td>...</td>\n",
       "      <td>...</td>\n",
       "      <td>...</td>\n",
       "    </tr>\n",
       "    <tr>\n",
       "      <th>2025-02-24</th>\n",
       "      <td>130.280000</td>\n",
       "      <td>251381000.0</td>\n",
       "      <td>3</td>\n",
       "      <td>4</td>\n",
       "      <td>12</td>\n",
       "      <td>2.78947</td>\n",
       "    </tr>\n",
       "    <tr>\n",
       "      <th>2025-02-25</th>\n",
       "      <td>126.630000</td>\n",
       "      <td>271429000.0</td>\n",
       "      <td>6</td>\n",
       "      <td>5</td>\n",
       "      <td>10</td>\n",
       "      <td>5.76190</td>\n",
       "    </tr>\n",
       "    <tr>\n",
       "      <th>2025-02-26</th>\n",
       "      <td>131.280000</td>\n",
       "      <td>322554000.0</td>\n",
       "      <td>14</td>\n",
       "      <td>7</td>\n",
       "      <td>20</td>\n",
       "      <td>13.82930</td>\n",
       "    </tr>\n",
       "    <tr>\n",
       "      <th>2025-02-27</th>\n",
       "      <td>120.150000</td>\n",
       "      <td>443176000.0</td>\n",
       "      <td>17</td>\n",
       "      <td>11</td>\n",
       "      <td>13</td>\n",
       "      <td>16.73170</td>\n",
       "    </tr>\n",
       "    <tr>\n",
       "      <th>2025-02-28</th>\n",
       "      <td>124.920000</td>\n",
       "      <td>388160000.0</td>\n",
       "      <td>7</td>\n",
       "      <td>8</td>\n",
       "      <td>7</td>\n",
       "      <td>6.63636</td>\n",
       "    </tr>\n",
       "  </tbody>\n",
       "</table>\n",
       "<p>1602 rows × 6 columns</p>\n",
       "</div>"
      ],
      "text/plain": [
       "                 Close       Volume  Positive  Negative  Neutral  \\\n",
       "Date                                                               \n",
       "2014-01-06    0.374438  409492000.0         0         0        1   \n",
       "2014-04-23    0.452159  261580000.0         0         1        0   \n",
       "2015-06-01    0.541710  372660000.0         0         0        1   \n",
       "2016-01-05    0.802491  490272000.0         1         0        0   \n",
       "2016-09-28    1.642590  319788000.0         0         0        1   \n",
       "...                ...          ...       ...       ...      ...   \n",
       "2025-02-24  130.280000  251381000.0         3         4       12   \n",
       "2025-02-25  126.630000  271429000.0         6         5       10   \n",
       "2025-02-26  131.280000  322554000.0        14         7       20   \n",
       "2025-02-27  120.150000  443176000.0        17        11       13   \n",
       "2025-02-28  124.920000  388160000.0         7         8        7   \n",
       "\n",
       "            Total_Sentiment  \n",
       "Date                         \n",
       "2014-01-06          0.00000  \n",
       "2014-04-23         -1.00000  \n",
       "2015-06-01          0.00000  \n",
       "2016-01-05          1.00000  \n",
       "2016-09-28          0.00000  \n",
       "...                     ...  \n",
       "2025-02-24          2.78947  \n",
       "2025-02-25          5.76190  \n",
       "2025-02-26         13.82930  \n",
       "2025-02-27         16.73170  \n",
       "2025-02-28          6.63636  \n",
       "\n",
       "[1602 rows x 6 columns]"
      ]
     },
     "execution_count": 4,
     "metadata": {},
     "output_type": "execute_result"
    }
   ],
   "source": [
    "\n",
    "df"
   ]
  },
  {
   "cell_type": "markdown",
   "metadata": {},
   "source": [
    "### Data Processing"
   ]
  },
  {
   "cell_type": "code",
   "execution_count": 5,
   "metadata": {},
   "outputs": [],
   "source": [
    "df['Close'] = df['Close'].shift(-1)\n",
    "df.dropna(inplace=True)"
   ]
  },
  {
   "cell_type": "code",
   "execution_count": 7,
   "metadata": {},
   "outputs": [
    {
     "data": {
      "text/plain": [
       "<Axes: >"
      ]
     },
     "execution_count": 7,
     "metadata": {},
     "output_type": "execute_result"
    },
    {
     "data": {
      "image/png": "[encoded data removed]",
      "text/plain": [
       "<Figure size 640x480 with 2 Axes>"
      ]
     },
     "metadata": {},
     "output_type": "display_data"
    }
   ],
   "source": [
    "sns.heatmap(df.corr(),annot=True)"
   ]
  },
  {
   "cell_type": "markdown",
   "metadata": {},
   "source": [
    "### Function train test split"
   ]
  },
  {
   "cell_type": "code",
   "execution_count": null,
   "metadata": {},
   "outputs": [],
   "source": [
    "#def traintest(data):\n",
    "\n",
    "    #X = data.drop(columns=['Close'], axis = 1)\n",
    "X= df.drop(['Close'],axis=1)\n",
    "Y = df['Close']\n",
    "    \n",
    "X_train = X.iloc[0:int(0.7*len(X))]\n",
    "Y_train = Y.iloc[0:int(0.7*len(Y))]\n",
    "\n",
    "X_test = X.iloc[int(0.7*len(X)):len(X)]\n",
    "Y_test = Y.iloc[int(0.7*len(Y)):int(len(Y))]"
   ]
  },
  {
   "cell_type": "code",
   "execution_count": null,
   "metadata": {},
   "outputs": [],
   "source": [
    "df_date = df.index\n",
    "df_columns = df.columns\n",
    "scaler = MinMaxScaler()\n",
    "\n",
    "X_train_scaled = scaler.fit_transform(X_train)\n",
    "X_test_scaled  = scaler.transform(X_test)\n",
    "\n",
    "#df_transformed.columns = df_columns\n",
    "#df_transformed.set_index(df_date, inplace=True)\n"
   ]
  },
  {
   "cell_type": "markdown",
   "metadata": {},
   "source": [
    "## Linear Regression"
   ]
  },
  {
   "cell_type": "code",
   "execution_count": 106,
   "metadata": {},
   "outputs": [],
   "source": [
    "#X_train, X_test, Y_train,Y_test = traintest(df_transformed)\n",
    "\n",
    "model=LinearRegression()\n",
    "\n",
    "model.fit(X_train_scaled, Y_train)\n",
    "\n",
    "y_pred = model.predict(X_test_scaled)"
   ]
  },
  {
   "cell_type": "code",
   "execution_count": 108,
   "metadata": {},
   "outputs": [
    {
     "name": "stdout",
     "output_type": "stream",
     "text": [
      "-2.248874651131986\n",
      "5316.055119246763\n"
     ]
    }
   ],
   "source": [
    "r2 = sklearn.metrics.r2_score(Y_test, y_pred)\n",
    "print(r2)\n",
    "\n",
    "mse = mean_squared_error(Y_test, y_pred)\n",
    "print(mse)\n"
   ]
  },
  {
   "cell_type": "code",
   "execution_count": 116,
   "metadata": {},
   "outputs": [],
   "source": [
    "prediction = pd.DataFrame({\n",
    "    'Date': Y_test.index,\n",
    "    'Prediction': y_pred\n",
    "})"
   ]
  },
  {
   "cell_type": "code",
   "execution_count": 119,
   "metadata": {},
   "outputs": [],
   "source": [
    "prediction.set_index('Date',drop=True,inplace=True)"
   ]
  },
  {
   "cell_type": "code",
   "execution_count": 120,
   "metadata": {},
   "outputs": [
    {
     "data": {
      "image/png": "[encoded data removed]",
      "text/plain": [
       "<Figure size 640x480 with 1 Axes>"
      ]
     },
     "metadata": {},
     "output_type": "display_data"
    }
   ],
   "source": [
    "plt.plot(Y_test,color='blue')\n",
    "plt.plot(prediction,color='red')\n",
    "plt.show()"
   ]
  },
  {
   "cell_type": "code",
   "execution_count": null,
   "metadata": {},
   "outputs": [],
   "source": [
    "import numpy as np\n",
    "\n",
    "X = df_transformed.drop('Close', axis=1).iloc[-1].to_numpy().reshape(1, -1)\n",
    "\n",
    "prediction = model.predict(X)\n",
    "\n",
    "temp = np.array([[prediction[0], X[0, 0], X[0, 1]]])\n",
    "\n",
    "original_value = scaler.inverse_transform(temp)\n",
    "\n",
    "print(original_value[0,0])"
   ]
  },
  {
   "cell_type": "code",
   "execution_count": null,
   "metadata": {},
   "outputs": [],
   "source": [
    "from sklearn.model_selection import GridSearchCV, cross_val_score\n",
    "from sklearn.pipeline import Pipeline\n",
    "\n",
    "from sklearn.preprocessing import PolynomialFeatures"
   ]
  },
  {
   "cell_type": "code",
   "execution_count": null,
   "metadata": {},
   "outputs": [],
   "source": [
    "pipeline = Pipeline([\n",
    "    ('poly', PolynomialFeatures()),  \n",
    "    ('model', LinearRegression())\n",
    "])\n",
    "\n",
    "param_grid = {\n",
    "    'poly__degree': [1, 2, 3, 4, 5, 6],\n",
    "    'model__fit_intercept': [True, False]\n",
    "}"
   ]
  },
  {
   "cell_type": "code",
   "execution_count": null,
   "metadata": {},
   "outputs": [],
   "source": [
    "X = df.drop('Close', axis=1)\n",
    "\n",
    "Y= df['Close']"
   ]
  },
  {
   "cell_type": "code",
   "execution_count": null,
   "metadata": {},
   "outputs": [],
   "source": [
    "# 🔹 Perform Grid Search\n",
    "grid_search = GridSearchCV(\n",
    "    pipeline, param_grid, cv=5, scoring='r2', n_jobs=-1  # Using R² as the metric\n",
    ")\n",
    "\n",
    "grid_search.fit(X, Y)  # Flatten Y to 1D array\n",
    "\n",
    "print(f\"Best Polynomial Degree: {grid_search.best_params_['poly__degree']}\")\n",
    "print(f\"Best R² Score: {grid_search.best_score_:.4f}\")"
   ]
  },
  {
   "cell_type": "markdown",
   "metadata": {},
   "source": [
    "## Decision Tree"
   ]
  },
  {
   "cell_type": "code",
   "execution_count": null,
   "metadata": {},
   "outputs": [],
   "source": [
    "from sklearn.tree import DecisionTreeRegressor\n",
    "\n",
    "X_train, X_test, Y_train,Y_test = traintest(df_transformed)\n",
    "\n",
    "dt = DecisionTreeRegressor()\n",
    "\n",
    "dt.fit(X_train, Y_train)\n",
    "\n",
    "y_pred = dt.predict(X_test)\n",
    "\n",
    "r2 = r2_score(Y_test, y_pred)\n",
    "\n",
    "print(r2)\n",
    "\n",
    "mse = mean_squared_error(Y_test, y_pred)\n",
    "print(mse)"
   ]
  },
  {
   "cell_type": "code",
   "execution_count": null,
   "metadata": {},
   "outputs": [],
   "source": [
    "plt.scatter(Y_test,y_pred, color='red')\n",
    "plt.ylabel('Prediction')\n",
    "plt.xlabel('Actual')\n",
    "plt.show()"
   ]
  },
  {
   "cell_type": "code",
   "execution_count": null,
   "metadata": {},
   "outputs": [],
   "source": [
    "import numpy as np\n",
    "\n",
    "X = df_transformed.drop('Close', axis=1).iloc[-1].to_numpy().reshape(1, -1)\n",
    "\n",
    "prediction = dt.predict(X)\n",
    "\n",
    "temp = np.array([[prediction[0], X[0, 0], X[0, 1]]])\n",
    "\n",
    "original_value = scaler.inverse_transform(temp)\n",
    "\n",
    "print(original_value[0,0])"
   ]
  },
  {
   "cell_type": "code",
   "execution_count": null,
   "metadata": {},
   "outputs": [],
   "source": [
    "parameter ={\n",
    "    'max_depth': [10,20,30,None],\n",
    "    'min_samples_split': [2,5,10],\n",
    "    'min_samples_leaf':[1,2,4]\n",
    "}\n",
    "\n",
    "grid_search = GridSearchCV(estimator=dt, param_grid=parameter, cv=5,n_jobs=-1,  scoring='neg_mean_squared_error')\n",
    "\n",
    "grid_search.fit(X_train, Y_train)\n",
    "\n",
    "best_dt = grid_search.best_estimator_\n",
    "y_pred = best_dt.predict(X_test)\n",
    "\n",
    "mse = mean_squared_error(Y_test, y_pred)\n",
    "print(mse)"
   ]
  },
  {
   "cell_type": "code",
   "execution_count": null,
   "metadata": {},
   "outputs": [],
   "source": [
    "import numpy as np\n",
    "\n",
    "X = df_transformed.drop('Close', axis=1).iloc[-1].to_numpy().reshape(1, -1)\n",
    "\n",
    "prediction = dt.predict(X)\n",
    "\n",
    "temp = np.array([[prediction[0], X[0, 0], X[0, 1]]])\n",
    "\n",
    "original_value = scaler.inverse_transform(temp)\n",
    "\n",
    "print(original_value[0,0])"
   ]
  },
  {
   "cell_type": "code",
   "execution_count": null,
   "metadata": {},
   "outputs": [],
   "source": [
    "X = df_transformed.drop('Close', axis=1).iloc[-1].to_numpy().reshape(1, -1)\n",
    "\n",
    "prediction = best_dt.predict(X)\n",
    "\n",
    "temp = np.array([[prediction[0], X[0, 0], X[0, 1]]])\n",
    "\n",
    "original_value = scaler.inverse_transform(temp)\n",
    "\n",
    "print(original_value[0,0])"
   ]
  },
  {
   "cell_type": "markdown",
   "metadata": {},
   "source": [
    "## Random Forest"
   ]
  },
  {
   "cell_type": "code",
   "execution_count": null,
   "metadata": {},
   "outputs": [],
   "source": [
    "from sklearn.ensemble import RandomForestRegressor\n",
    "\n",
    "rf = RandomForestRegressor()\n",
    "rf.fit(X_train,Y_train)\n",
    "\n",
    "rf_pred = rf.predict(X_test)\n",
    "\n",
    "r2 = r2_score(Y_test,rf_pred)\n",
    "print(r2)\n",
    "\n",
    "mse = mean_squared_error(rf_pred, Y_test)\n",
    "print(mse)"
   ]
  },
  {
   "cell_type": "code",
   "execution_count": null,
   "metadata": {},
   "outputs": [],
   "source": [
    "plt.scatter(Y_test,y_pred, color='red')\n",
    "plt.ylabel('Prediction')\n",
    "plt.xlabel('Actual')\n",
    "plt.show()"
   ]
  },
  {
   "cell_type": "code",
   "execution_count": null,
   "metadata": {},
   "outputs": [],
   "source": [
    "X = df_transformed.drop('Close', axis=1).iloc[-1].to_numpy().reshape(1, -1)\n",
    "\n",
    "prediction = rf.predict(X)\n",
    "\n",
    "temp = np.array([[prediction[0], X[0, 0], X[0, 1]]])\n",
    "\n",
    "original_value = scaler.inverse_transform(temp)\n",
    "\n",
    "print(original_value[0,0])"
   ]
  },
  {
   "cell_type": "code",
   "execution_count": null,
   "metadata": {},
   "outputs": [],
   "source": [
    "parameter ={\n",
    "    'n_estimators':[100,200,300,400,500],\n",
    "    'max_depth': [2,5,10,20,30, None],\n",
    "    'min_samples_split':[2,5,10,20,30],\n",
    "    'min_samples_leaf':[1,2,5,10,20,30]\n",
    "}\n",
    "\n",
    "grid_search = GridSearchCV(estimator=rf, param_grid=parameter,cv=5,n_jobs=-1,scoring='neg_mean_squared_error')\n",
    "\n",
    "grid_search.fit(X_train, Y_train)\n",
    "\n",
    "print(grid_search.best_params_)\n"
   ]
  },
  {
   "cell_type": "code",
   "execution_count": null,
   "metadata": {},
   "outputs": [],
   "source": [
    "best_rf = grid_search.best_estimator_\n",
    "\n",
    "rf_pred = best_rf.predict(X_test)\n",
    "\n",
    "mse = mean_squared_error(rf_pred, Y_test)\n",
    "print(mse)"
   ]
  },
  {
   "cell_type": "code",
   "execution_count": null,
   "metadata": {},
   "outputs": [],
   "source": [
    "X = df_transformed.drop('Close', axis=1).iloc[-1].to_numpy().reshape(1, -1)\n",
    "\n",
    "prediction = best_rf .predict(X)\n",
    "\n",
    "temp = np.array([[prediction[0], X[0, 0], X[0, 1]]])\n",
    "\n",
    "original_value = scaler.inverse_transform(temp)\n",
    "\n",
    "print(original_value[0,0])"
   ]
  },
  {
   "cell_type": "code",
   "execution_count": null,
   "metadata": {},
   "outputs": [],
   "source": [
    "df_transformed.index = pd.to_datetime(df_transformed.index)\n",
    "\n",
    "df_transformed.index = df_transformed.index.strftime('%d-%m-%Y')"
   ]
  },
  {
   "cell_type": "markdown",
   "metadata": {},
   "source": [
    "## XGBoost"
   ]
  },
  {
   "cell_type": "code",
   "execution_count": 84,
   "metadata": {},
   "outputs": [],
   "source": [
    "X= df_transformed.drop(['Close'],axis=1)\n",
    "Y = df_transformed['Close']"
   ]
  },
  {
   "cell_type": "code",
   "execution_count": 91,
   "metadata": {},
   "outputs": [
    {
     "name": "stdout",
     "output_type": "stream",
     "text": [
      "Mean MAE: 0.138 (0.007)\n"
     ]
    }
   ],
   "source": [
    "xg = XGBRegressor()\n",
    "\n",
    "cv = RepeatedKFold(n_repeats=3, random_state=1)\n",
    "scores = cross_val_score(model, X, Y, scoring='neg_mean_absolute_error', cv=cv, n_jobs=-1)\n",
    "\n",
    "scores = absolute(scores)\n",
    "\n",
    "print('Mean MAE: %.3f (%.3f)' % (scores.mean(), scores.std()) )"
   ]
  },
  {
   "cell_type": "code",
   "execution_count": 92,
   "metadata": {},
   "outputs": [
    {
     "name": "stdout",
     "output_type": "stream",
     "text": [
      "-2.6260919108154797\n"
     ]
    }
   ],
   "source": [
    "xg.fit(X_train,Y_train)\n",
    "\n",
    "y_pred = xg.predict(X_test)\n",
    "\n",
    "r2 = r2_score(Y_test,y_pred)\n",
    "\n",
    "print(r2)"
   ]
  },
  {
   "cell_type": "markdown",
   "metadata": {},
   "source": [
    "## Deep Neural Network"
   ]
  },
  {
   "cell_type": "code",
   "execution_count": null,
   "metadata": {},
   "outputs": [],
   "source": [
    "dnn = Sequential()\n",
    "dnn.add(Dense(units=128, activation = 'relu', input_dim=5))\n",
    "dnn.add(Dense(units=32, activation = 'relu'))\n",
    "dnn.add(Dense(units=8, activation = 'relu'))\n",
    "dnn.add(Dense(units=1, activation = 'linear'))"
   ]
  },
  {
   "cell_type": "code",
   "execution_count": null,
   "metadata": {},
   "outputs": [],
   "source": [
    "dnn.compile(optimizer='adam', loss='mean_squared_error')"
   ]
  },
  {
   "cell_type": "code",
   "execution_count": null,
   "metadata": {},
   "outputs": [],
   "source": [
    "es = EarlyStopping(monitor='val_loss', mode = 'min',verbose=1, patience=200)"
   ]
  },
  {
   "cell_type": "code",
   "execution_count": null,
   "metadata": {},
   "outputs": [],
   "source": [
    "history = dnn.fit(X_train, Y_train, epochs=100, batch_size=32, validation_data=(X_test, Y_test))"
   ]
  },
  {
   "cell_type": "code",
   "execution_count": null,
   "metadata": {},
   "outputs": [],
   "source": [
    "prediction = dnn.predict(X_test) "
   ]
  },
  {
   "cell_type": "code",
   "execution_count": null,
   "metadata": {},
   "outputs": [],
   "source": [
    "print(r2_score(Y_test,prediction))"
   ]
  },
  {
   "cell_type": "code",
   "execution_count": null,
   "metadata": {},
   "outputs": [],
   "source": [
    "import matplotlib.pyplot as plt\n",
    "\n",
    "plt.scatter(Y_test,prediction, color='red')\n",
    "plt.ylabel('Prediction')\n",
    "plt.xlabel('Actual')\n",
    "plt.show()"
   ]
  },
  {
   "cell_type": "markdown",
   "metadata": {},
   "source": [
    "## LSTM"
   ]
  },
  {
   "cell_type": "code",
   "execution_count": 21,
   "metadata": {},
   "outputs": [],
   "source": [
    "scaler = StandardScaler()"
   ]
  },
  {
   "cell_type": "code",
   "execution_count": 22,
   "metadata": {},
   "outputs": [],
   "source": [
    "df_train = df.iloc[0:int(0.8*len(df))]\n",
    "df_test = df.iloc[int(0.8*len(df)):len(df)]"
   ]
  },
  {
   "cell_type": "code",
   "execution_count": 23,
   "metadata": {},
   "outputs": [],
   "source": [
    "df_scaled = scaler.fit_transform(df_train)\n",
    "df_test_scaled = scaler.fit_transform(df_test)"
   ]
  },
  {
   "cell_type": "code",
   "execution_count": 24,
   "metadata": {},
   "outputs": [
    {
     "data": {
      "text/plain": [
       "(1280, 6)"
      ]
     },
     "execution_count": 24,
     "metadata": {},
     "output_type": "execute_result"
    }
   ],
   "source": [
    "df_scaled.shape"
   ]
  },
  {
   "cell_type": "code",
   "execution_count": 25,
   "metadata": {},
   "outputs": [],
   "source": [
    "trainX = []\n",
    "trainY = []\n",
    "\n",
    "n_past = 14\n",
    "n_future = 1\n",
    "\n",
    "for i in range(n_past, len(df_scaled)-n_future+1):\n",
    "    trainX.append(df_scaled[i-n_past: i ,0:df_scaled.shape[1]])\n",
    "    trainY.append(df_scaled[i + n_future - 1:i + n_future,0])"
   ]
  },
  {
   "cell_type": "code",
   "execution_count": 26,
   "metadata": {},
   "outputs": [
    {
     "data": {
      "text/plain": [
       "(321, 6)"
      ]
     },
     "execution_count": 26,
     "metadata": {},
     "output_type": "execute_result"
    }
   ],
   "source": [
    "df_test.shape"
   ]
  },
  {
   "cell_type": "code",
   "execution_count": 27,
   "metadata": {},
   "outputs": [],
   "source": [
    "# split data for testing data\n",
    "\n",
    "testX = []\n",
    "testY = []\n",
    "\n",
    "for i in range(n_past, len(df_test_scaled)-n_future+1):\n",
    "    testX.append(df_test_scaled [i-n_past: i , 0: df_test_scaled.shape[1]])\n",
    "    testY.append(df_test_scaled [i + n_future - 1:i + n_future,0])"
   ]
  },
  {
   "cell_type": "code",
   "execution_count": 28,
   "metadata": {},
   "outputs": [],
   "source": [
    "trainX, trainY = np.array(trainX), np.array(trainY)"
   ]
  },
  {
   "cell_type": "code",
   "execution_count": 29,
   "metadata": {},
   "outputs": [],
   "source": [
    "testX, testY = np.array(testX), np.array(testY)"
   ]
  },
  {
   "cell_type": "code",
   "execution_count": 30,
   "metadata": {},
   "outputs": [
    {
     "data": {
      "text/plain": [
       "(1266, 14, 6)"
      ]
     },
     "execution_count": 30,
     "metadata": {},
     "output_type": "execute_result"
    }
   ],
   "source": [
    "trainX.shape"
   ]
  },
  {
   "cell_type": "code",
   "execution_count": 31,
   "metadata": {},
   "outputs": [
    {
     "data": {
      "text/plain": [
       "(1266, 1)"
      ]
     },
     "execution_count": 31,
     "metadata": {},
     "output_type": "execute_result"
    }
   ],
   "source": [
    "trainY.shape"
   ]
  },
  {
   "cell_type": "code",
   "execution_count": 32,
   "metadata": {},
   "outputs": [
    {
     "name": "stderr",
     "output_type": "stream",
     "text": [
      "c:\\Users\\user\\AppData\\Local\\Programs\\Python\\Python310\\lib\\site-packages\\keras\\src\\layers\\rnn\\rnn.py:200: UserWarning: Do not pass an `input_shape`/`input_dim` argument to a layer. When using Sequential models, prefer using an `Input(shape)` object as the first layer in the model instead.\n",
      "  super().__init__(**kwargs)\n"
     ]
    }
   ],
   "source": [
    "model = Sequential()\n",
    "model.add(LSTM(64, activation='relu', input_shape=(trainX.shape[1], trainX.shape[2]), return_sequences=True))\n",
    "model.add(LSTM(32, activation='relu', return_sequences=False))\n",
    "model.add(Dropout(0.2))\n",
    "model.add(Dense(trainY.shape[1]))"
   ]
  },
  {
   "cell_type": "code",
   "execution_count": 33,
   "metadata": {},
   "outputs": [
    {
     "data": {
      "text/html": [
       "<pre style=\"white-space:pre;overflow-x:auto;line-height:normal;font-family:Menlo,'DejaVu Sans Mono',consolas,'Courier New',monospace\"><span style=\"font-weight: bold\">Model: \"sequential\"</span>\n",
       "</pre>\n"
      ],
      "text/plain": [
       "\u001b[1mModel: \"sequential\"\u001b[0m\n"
      ]
     },
     "metadata": {},
     "output_type": "display_data"
    },
    {
     "data": {
      "text/html": [
       "<pre style=\"white-space:pre;overflow-x:auto;line-height:normal;font-family:Menlo,'DejaVu Sans Mono',consolas,'Courier New',monospace\">┏━━━━━━━━━━━━━━━━━━━━━━━━━━━━━━━━━┳━━━━━━━━━━━━━━━━━━━━━━━━┳━━━━━━━━━━━━━━━┓\n",
       "┃<span style=\"font-weight: bold\"> Layer (type)                    </span>┃<span style=\"font-weight: bold\"> Output Shape           </span>┃<span style=\"font-weight: bold\">       Param # </span>┃\n",
       "┡━━━━━━━━━━━━━━━━━━━━━━━━━━━━━━━━━╇━━━━━━━━━━━━━━━━━━━━━━━━╇━━━━━━━━━━━━━━━┩\n",
       "│ lstm (<span style=\"color: #0087ff; text-decoration-color: #0087ff\">LSTM</span>)                     │ (<span style=\"color: #00d7ff; text-decoration-color: #00d7ff\">None</span>, <span style=\"color: #00af00; text-decoration-color: #00af00\">14</span>, <span style=\"color: #00af00; text-decoration-color: #00af00\">64</span>)         │        <span style=\"color: #00af00; text-decoration-color: #00af00\">18,176</span> │\n",
       "├─────────────────────────────────┼────────────────────────┼───────────────┤\n",
       "│ lstm_1 (<span style=\"color: #0087ff; text-decoration-color: #0087ff\">LSTM</span>)                   │ (<span style=\"color: #00d7ff; text-decoration-color: #00d7ff\">None</span>, <span style=\"color: #00af00; text-decoration-color: #00af00\">32</span>)             │        <span style=\"color: #00af00; text-decoration-color: #00af00\">12,416</span> │\n",
       "├─────────────────────────────────┼────────────────────────┼───────────────┤\n",
       "│ dropout (<span style=\"color: #0087ff; text-decoration-color: #0087ff\">Dropout</span>)               │ (<span style=\"color: #00d7ff; text-decoration-color: #00d7ff\">None</span>, <span style=\"color: #00af00; text-decoration-color: #00af00\">32</span>)             │             <span style=\"color: #00af00; text-decoration-color: #00af00\">0</span> │\n",
       "├─────────────────────────────────┼────────────────────────┼───────────────┤\n",
       "│ dense (<span style=\"color: #0087ff; text-decoration-color: #0087ff\">Dense</span>)                   │ (<span style=\"color: #00d7ff; text-decoration-color: #00d7ff\">None</span>, <span style=\"color: #00af00; text-decoration-color: #00af00\">1</span>)              │            <span style=\"color: #00af00; text-decoration-color: #00af00\">33</span> │\n",
       "└─────────────────────────────────┴────────────────────────┴───────────────┘\n",
       "</pre>\n"
      ],
      "text/plain": [
       "┏━━━━━━━━━━━━━━━━━━━━━━━━━━━━━━━━━┳━━━━━━━━━━━━━━━━━━━━━━━━┳━━━━━━━━━━━━━━━┓\n",
       "┃\u001b[1m \u001b[0m\u001b[1mLayer (type)                   \u001b[0m\u001b[1m \u001b[0m┃\u001b[1m \u001b[0m\u001b[1mOutput Shape          \u001b[0m\u001b[1m \u001b[0m┃\u001b[1m \u001b[0m\u001b[1m      Param #\u001b[0m\u001b[1m \u001b[0m┃\n",
       "┡━━━━━━━━━━━━━━━━━━━━━━━━━━━━━━━━━╇━━━━━━━━━━━━━━━━━━━━━━━━╇━━━━━━━━━━━━━━━┩\n",
       "│ lstm (\u001b[38;5;33mLSTM\u001b[0m)                     │ (\u001b[38;5;45mNone\u001b[0m, \u001b[38;5;34m14\u001b[0m, \u001b[38;5;34m64\u001b[0m)         │        \u001b[38;5;34m18,176\u001b[0m │\n",
       "├─────────────────────────────────┼────────────────────────┼───────────────┤\n",
       "│ lstm_1 (\u001b[38;5;33mLSTM\u001b[0m)                   │ (\u001b[38;5;45mNone\u001b[0m, \u001b[38;5;34m32\u001b[0m)             │        \u001b[38;5;34m12,416\u001b[0m │\n",
       "├─────────────────────────────────┼────────────────────────┼───────────────┤\n",
       "│ dropout (\u001b[38;5;33mDropout\u001b[0m)               │ (\u001b[38;5;45mNone\u001b[0m, \u001b[38;5;34m32\u001b[0m)             │             \u001b[38;5;34m0\u001b[0m │\n",
       "├─────────────────────────────────┼────────────────────────┼───────────────┤\n",
       "│ dense (\u001b[38;5;33mDense\u001b[0m)                   │ (\u001b[38;5;45mNone\u001b[0m, \u001b[38;5;34m1\u001b[0m)              │            \u001b[38;5;34m33\u001b[0m │\n",
       "└─────────────────────────────────┴────────────────────────┴───────────────┘\n"
      ]
     },
     "metadata": {},
     "output_type": "display_data"
    },
    {
     "data": {
      "text/html": [
       "<pre style=\"white-space:pre;overflow-x:auto;line-height:normal;font-family:Menlo,'DejaVu Sans Mono',consolas,'Courier New',monospace\"><span style=\"font-weight: bold\"> Total params: </span><span style=\"color: #00af00; text-decoration-color: #00af00\">30,625</span> (119.63 KB)\n",
       "</pre>\n"
      ],
      "text/plain": [
       "\u001b[1m Total params: \u001b[0m\u001b[38;5;34m30,625\u001b[0m (119.63 KB)\n"
      ]
     },
     "metadata": {},
     "output_type": "display_data"
    },
    {
     "data": {
      "text/html": [
       "<pre style=\"white-space:pre;overflow-x:auto;line-height:normal;font-family:Menlo,'DejaVu Sans Mono',consolas,'Courier New',monospace\"><span style=\"font-weight: bold\"> Trainable params: </span><span style=\"color: #00af00; text-decoration-color: #00af00\">30,625</span> (119.63 KB)\n",
       "</pre>\n"
      ],
      "text/plain": [
       "\u001b[1m Trainable params: \u001b[0m\u001b[38;5;34m30,625\u001b[0m (119.63 KB)\n"
      ]
     },
     "metadata": {},
     "output_type": "display_data"
    },
    {
     "data": {
      "text/html": [
       "<pre style=\"white-space:pre;overflow-x:auto;line-height:normal;font-family:Menlo,'DejaVu Sans Mono',consolas,'Courier New',monospace\"><span style=\"font-weight: bold\"> Non-trainable params: </span><span style=\"color: #00af00; text-decoration-color: #00af00\">0</span> (0.00 B)\n",
       "</pre>\n"
      ],
      "text/plain": [
       "\u001b[1m Non-trainable params: \u001b[0m\u001b[38;5;34m0\u001b[0m (0.00 B)\n"
      ]
     },
     "metadata": {},
     "output_type": "display_data"
    }
   ],
   "source": [
    "model.compile(optimizer='adam', loss='mse')\n",
    "model.summary()"
   ]
  },
  {
   "cell_type": "code",
   "execution_count": 34,
   "metadata": {},
   "outputs": [],
   "source": [
    "early_stopping = EarlyStopping(monitor='val_loss', patience=5, restore_best_weights=True)"
   ]
  },
  {
   "cell_type": "code",
   "execution_count": 35,
   "metadata": {},
   "outputs": [
    {
     "name": "stdout",
     "output_type": "stream",
     "text": [
      "Epoch 1/150\n"
     ]
    },
    {
     "name": "stdout",
     "output_type": "stream",
     "text": [
      "\u001b[1m36/36\u001b[0m \u001b[32m━━━━━━━━━━━━━━━━━━━━\u001b[0m\u001b[37m\u001b[0m \u001b[1m6s\u001b[0m 34ms/step - loss: 0.2568 - val_loss: 3.1196\n",
      "Epoch 2/150\n",
      "\u001b[1m36/36\u001b[0m \u001b[32m━━━━━━━━━━━━━━━━━━━━\u001b[0m\u001b[37m\u001b[0m \u001b[1m0s\u001b[0m 12ms/step - loss: 0.0308 - val_loss: 4.9432\n",
      "Epoch 3/150\n",
      "\u001b[1m36/36\u001b[0m \u001b[32m━━━━━━━━━━━━━━━━━━━━\u001b[0m\u001b[37m\u001b[0m \u001b[1m0s\u001b[0m 12ms/step - loss: 0.0261 - val_loss: 0.8735\n",
      "Epoch 4/150\n",
      "\u001b[1m36/36\u001b[0m \u001b[32m━━━━━━━━━━━━━━━━━━━━\u001b[0m\u001b[37m\u001b[0m \u001b[1m1s\u001b[0m 13ms/step - loss: 0.0224 - val_loss: 4.2156\n",
      "Epoch 5/150\n",
      "\u001b[1m36/36\u001b[0m \u001b[32m━━━━━━━━━━━━━━━━━━━━\u001b[0m\u001b[37m\u001b[0m \u001b[1m0s\u001b[0m 12ms/step - loss: 0.0247 - val_loss: 1.1113\n",
      "Epoch 6/150\n",
      "\u001b[1m36/36\u001b[0m \u001b[32m━━━━━━━━━━━━━━━━━━━━\u001b[0m\u001b[37m\u001b[0m \u001b[1m0s\u001b[0m 12ms/step - loss: 0.0239 - val_loss: 3.9548\n",
      "Epoch 7/150\n",
      "\u001b[1m36/36\u001b[0m \u001b[32m━━━━━━━━━━━━━━━━━━━━\u001b[0m\u001b[37m\u001b[0m \u001b[1m0s\u001b[0m 12ms/step - loss: 0.0237 - val_loss: 2.8459\n",
      "Epoch 8/150\n",
      "\u001b[1m36/36\u001b[0m \u001b[32m━━━━━━━━━━━━━━━━━━━━\u001b[0m\u001b[37m\u001b[0m \u001b[1m0s\u001b[0m 12ms/step - loss: 0.0215 - val_loss: 1.0744\n"
     ]
    }
   ],
   "source": [
    "history = model.fit(trainX, trainY, epochs=150,  validation_split=0.1, batch_size=32,callbacks=[early_stopping])"
   ]
  },
  {
   "cell_type": "code",
   "execution_count": 36,
   "metadata": {},
   "outputs": [
    {
     "data": {
      "text/plain": [
       "<matplotlib.legend.Legend at 0x2b7a9920dc0>"
      ]
     },
     "execution_count": 36,
     "metadata": {},
     "output_type": "execute_result"
    },
    {
     "data": {
      "image/png": "[encoded data removed]",
      "text/plain": [
       "<Figure size 640x480 with 1 Axes>"
      ]
     },
     "metadata": {},
     "output_type": "display_data"
    }
   ],
   "source": [
    "plt.plot(history.history['loss'], label='Training loss')\n",
    "plt.plot(history.history['val_loss'], label='Validation loss')\n",
    "plt.legend()"
   ]
  },
  {
   "cell_type": "code",
   "execution_count": 37,
   "metadata": {},
   "outputs": [
    {
     "name": "stdout",
     "output_type": "stream",
     "text": [
      "\u001b[1m10/10\u001b[0m \u001b[32m━━━━━━━━━━━━━━━━━━━━\u001b[0m\u001b[37m\u001b[0m \u001b[1m1s\u001b[0m 41ms/step\n"
     ]
    }
   ],
   "source": [
    "prediction = model.predict(testX)"
   ]
  },
  {
   "cell_type": "code",
   "execution_count": 38,
   "metadata": {},
   "outputs": [
    {
     "data": {
      "text/plain": [
       "<matplotlib.collections.PathCollection at 0x2b7af594ee0>"
      ]
     },
     "execution_count": 38,
     "metadata": {},
     "output_type": "execute_result"
    },
    {
     "data": {
      "image/png": "[encoded data removed]",
      "text/plain": [
       "<Figure size 640x480 with 1 Axes>"
      ]
     },
     "metadata": {},
     "output_type": "display_data"
    }
   ],
   "source": [
    "plt.scatter(prediction,testY)"
   ]
  },
  {
   "cell_type": "code",
   "execution_count": 39,
   "metadata": {},
   "outputs": [
    {
     "name": "stdout",
     "output_type": "stream",
     "text": [
      "0.9400775025940116\n"
     ]
    }
   ],
   "source": [
    "r2 =r2_score(testY,prediction)\n",
    "\n",
    "print(r2)"
   ]
  },
  {
   "cell_type": "code",
   "execution_count": 40,
   "metadata": {},
   "outputs": [],
   "source": [
    "filename = 'finalized_model.sav'\n",
    "\n",
    "pickle.dump(model, open(filename, 'wb'))\n",
    "\n",
    "# load the model from disk\n",
    "# loaded_model = pickle.load(open(filename, 'rb'))"
   ]
  },
  {
   "cell_type": "code",
   "execution_count": 41,
   "metadata": {},
   "outputs": [],
   "source": [
    "trainfuture = df_test_scaled[-14: ,]"
   ]
  },
  {
   "cell_type": "code",
   "execution_count": 42,
   "metadata": {},
   "outputs": [],
   "source": [
    "trainfuture = trainfuture.reshape(1, 14, 6)"
   ]
  },
  {
   "cell_type": "code",
   "execution_count": 43,
   "metadata": {},
   "outputs": [
    {
     "name": "stdout",
     "output_type": "stream",
     "text": [
      "\u001b[1m1/1\u001b[0m \u001b[32m━━━━━━━━━━━━━━━━━━━━\u001b[0m\u001b[37m\u001b[0m \u001b[1m0s\u001b[0m 74ms/step\n"
     ]
    }
   ],
   "source": [
    "prediction = model.predict(trainfuture)"
   ]
  },
  {
   "cell_type": "code",
   "execution_count": 44,
   "metadata": {},
   "outputs": [
    {
     "data": {
      "text/plain": [
       "array([[0.81223845]], dtype=float32)"
      ]
     },
     "execution_count": 44,
     "metadata": {},
     "output_type": "execute_result"
    }
   ],
   "source": [
    "prediction"
   ]
  },
  {
   "cell_type": "code",
   "execution_count": 45,
   "metadata": {},
   "outputs": [],
   "source": [
    "arr = [prediction.flatten()[0],  prediction.flatten()[0], prediction.flatten()[0], prediction.flatten()[0], prediction.flatten()[0], prediction.flatten()[0]]"
   ]
  },
  {
   "cell_type": "code",
   "execution_count": 46,
   "metadata": {},
   "outputs": [
    {
     "data": {
      "text/plain": [
       "[np.float32(0.81223845),\n",
       " np.float32(0.81223845),\n",
       " np.float32(0.81223845),\n",
       " np.float32(0.81223845),\n",
       " np.float32(0.81223845),\n",
       " np.float32(0.81223845)]"
      ]
     },
     "execution_count": 46,
     "metadata": {},
     "output_type": "execute_result"
    }
   ],
   "source": [
    "arr"
   ]
  },
  {
   "cell_type": "code",
   "execution_count": 47,
   "metadata": {},
   "outputs": [],
   "source": [
    "arr = np.array(arr).reshape(1,-1)"
   ]
  },
  {
   "cell_type": "code",
   "execution_count": 48,
   "metadata": {},
   "outputs": [],
   "source": [
    "y_pred_future = scaler.inverse_transform(arr)"
   ]
  },
  {
   "cell_type": "code",
   "execution_count": 49,
   "metadata": {},
   "outputs": [
    {
     "data": {
      "text/plain": [
       "array([[1.3036906e+02, 4.9766099e+08, 7.1801863e+00, 3.7065089e+00,\n",
       "        1.2310371e+01, 7.0428982e+00]], dtype=float32)"
      ]
     },
     "execution_count": 49,
     "metadata": {},
     "output_type": "execute_result"
    }
   ],
   "source": [
    "y_pred_future "
   ]
  },
  {
   "cell_type": "code",
   "execution_count": 52,
   "metadata": {},
   "outputs": [
    {
     "name": "stdout",
     "output_type": "stream",
     "text": [
      "The predicted price for the next day: 130.36906\n"
     ]
    }
   ],
   "source": [
    "print('The predicted price for the next day:', y_pred_future[0][0])"
   ]
  },
  {
   "cell_type": "code",
   "execution_count": 50,
   "metadata": {},
   "outputs": [
    {
     "data": {
      "text/plain": [
       "True"
      ]
     },
     "execution_count": 50,
     "metadata": {},
     "output_type": "execute_result"
    }
   ],
   "source": [
    "conn.close()\n",
    "\n",
    "mycursor.close()"
   ]
  }
 ],
 "metadata": {
  "kernelspec": {
   "display_name": "Python 3",
   "language": "python",
   "name": "python3"
  },
  "language_info": {
   "codemirror_mode": {
    "name": "ipython",
    "version": 3
   },
   "file_extension": ".py",
   "mimetype": "text/x-python",
   "name": "python",
   "nbconvert_exporter": "python",
   "pygments_lexer": "ipython3",
   "version": "3.10.0"
  }
 },
 "nbformat": 4,
 "nbformat_minor": 2
}
