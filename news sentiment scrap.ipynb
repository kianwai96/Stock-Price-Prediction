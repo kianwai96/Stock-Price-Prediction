{
 "cells": [
  {
   "cell_type": "code",
   "execution_count": 8,
   "metadata": {},
   "outputs": [],
   "source": [
    "from bs4 import BeautifulSoup\n",
    "import requests\n",
    "from selenium import webdriver\n",
    "import time\n",
    "import random\n",
    "import pandas as pd"
   ]
  },
  {
   "cell_type": "code",
   "execution_count": 9,
   "metadata": {},
   "outputs": [],
   "source": [
    "headers = {\n",
    "    \"User-Agent\": \"Mozilla/5.0 (Windows NT 10.0; Win64; x64) AppleWebKit/537.36 (KHTML, like Gecko) Chrome/120.0.0.0 Safari/537.36\",\n",
    "    \"Accept-Language\": \"en-US,en;q=0.9\",\n",
    "    \"Referer\": \"https://www.google.com/\"\n",
    "}\n",
    "\n",
    "url = 'https://markets.businessinsider.com/news/nvda-stock?p=1'"
   ]
  },
  {
   "cell_type": "code",
   "execution_count": 10,
   "metadata": {},
   "outputs": [],
   "source": [
    "# soup = BeautifulSoup(page.text, 'lxml')\n",
    "# articles = soup.find_all('div', class_ ='latest-news__story')"
   ]
  },
  {
   "cell_type": "code",
   "execution_count": 11,
   "metadata": {},
   "outputs": [],
   "source": [
    "data = []\n",
    "page_number = 1\n",
    "\n",
    "while True:\n",
    "    try:\n",
    "        url = f'https://markets.businessinsider.com/news/nvda-stock?p={page_number}'\n",
    "\n",
    "        page = requests.get(url, headers = headers)  \n",
    "\n",
    "        time.sleep(random.uniform(3, 7))  \n",
    "\n",
    "        soup = BeautifulSoup(page.text, 'lxml')\n",
    "        articles = soup.find_all('div', class_ ='latest-news__story')\n",
    "\n",
    "        if not articles:\n",
    "            # Break the loop if no articles are found on the current page\n",
    "            break\n",
    "\n",
    "        for row in articles:\n",
    "            datetime = row.find('time', class_= 'latest-news__date').get('datetime')\n",
    "            title = row.find('a', class_= 'news-link').text\n",
    "            source = row.find('span', class_= 'latest-news__source').text\n",
    "            link = row.find('a',class_= 'news-link').get('href')\n",
    "            data.append([datetime,title,source,link])\n",
    "        \n",
    "        page_number +=1\n",
    "    \n",
    "    except Exception as e:\n",
    "        print(e)\n",
    "        break\n",
    "\n",
    "\n",
    "\n",
    "df = pd.DataFrame(data, columns = [ 'DateTime', 'Title', 'Source', 'Link'])\n",
    "\n",
    "# df.to_csv('source.csv', index=False)\n"
   ]
  },
  {
   "cell_type": "code",
   "execution_count": 12,
   "metadata": {},
   "outputs": [],
   "source": [
    "#df= pd.read_csv(\"source.csv\")"
   ]
  },
  {
   "cell_type": "code",
   "execution_count": 13,
   "metadata": {},
   "outputs": [
    {
     "name": "stderr",
     "output_type": "stream",
     "text": [
      "c:\\Users\\user\\AppData\\Local\\Programs\\Python\\Python310\\lib\\site-packages\\tqdm\\auto.py:21: TqdmWarning: IProgress not found. Please update jupyter and ipywidgets. See https://ipywidgets.readthedocs.io/en/stable/user_install.html\n",
      "  from .autonotebook import tqdm as notebook_tqdm\n",
      "Device set to use cpu\n"
     ]
    }
   ],
   "source": [
    "from transformers import pipeline\n",
    "\n",
    "pipe = pipeline(\"text-classification\", model=\"ProsusAI/finbert\", framework=\"pt\")"
   ]
  },
  {
   "cell_type": "code",
   "execution_count": 14,
   "metadata": {},
   "outputs": [],
   "source": [
    "def sentiment_analysis(text):\n",
    "    data = pipe(text)\n",
    "    return data"
   ]
  },
  {
   "cell_type": "code",
   "execution_count": 15,
   "metadata": {},
   "outputs": [],
   "source": [
    "text = df['Title']"
   ]
  },
  {
   "cell_type": "code",
   "execution_count": 16,
   "metadata": {},
   "outputs": [],
   "source": [
    "sentiment = []\n",
    "\n",
    "for i in text:\n",
    "        sentiment.append(sentiment_analysis(str(i)))"
   ]
  },
  {
   "cell_type": "code",
   "execution_count": 17,
   "metadata": {},
   "outputs": [],
   "source": [
    "labels = [res[0]['label'] for res in sentiment]\n",
    "scores = [res[0]['score'] for res in sentiment]"
   ]
  },
  {
   "cell_type": "code",
   "execution_count": 18,
   "metadata": {},
   "outputs": [],
   "source": [
    "df['Label'] = labels\n",
    "df['Score'] = scores"
   ]
  },
  {
   "cell_type": "code",
   "execution_count": 19,
   "metadata": {},
   "outputs": [],
   "source": [
    "def sentiment_score(label):\n",
    "    if label == 'positive':\n",
    "        return 1\n",
    "    if label == 'neutral':\n",
    "        return 0\n",
    "    if label == 'negative':\n",
    "        return -1\n"
   ]
  },
  {
   "cell_type": "code",
   "execution_count": 20,
   "metadata": {},
   "outputs": [],
   "source": [
    "df['Label'] = df['Label'].apply(sentiment_score)"
   ]
  },
  {
   "cell_type": "code",
   "execution_count": 21,
   "metadata": {},
   "outputs": [],
   "source": [
    "df.to_csv('sentiment_score.csv', index = False)"
   ]
  },
  {
   "cell_type": "code",
   "execution_count": 22,
   "metadata": {},
   "outputs": [],
   "source": [
    "# import pandas as pd \n",
    "\n",
    "# df = pd.read_csv('sentiment_score.csv')"
   ]
  },
  {
   "cell_type": "code",
   "execution_count": 23,
   "metadata": {},
   "outputs": [],
   "source": [
    "# df.drop('Unnamed: 0', axis= 1, inplace=True)"
   ]
  },
  {
   "cell_type": "code",
   "execution_count": 24,
   "metadata": {},
   "outputs": [],
   "source": [
    "df['Date'] = pd.to_datetime(df['DateTime'])\n",
    "df['Date'] = df['Date'].dt.date"
   ]
  },
  {
   "cell_type": "code",
   "execution_count": 25,
   "metadata": {},
   "outputs": [],
   "source": [
    "df.drop('DateTime', axis = 1, inplace=True)"
   ]
  },
  {
   "cell_type": "code",
   "execution_count": 26,
   "metadata": {},
   "outputs": [],
   "source": [
    "df = df.set_index('Date')"
   ]
  },
  {
   "cell_type": "code",
   "execution_count": 27,
   "metadata": {},
   "outputs": [],
   "source": [
    "def count_positive(value):\n",
    "\n",
    "    if value == 1:\n",
    "        return 1\n",
    "    else:\n",
    "        return 0\n",
    "\n",
    "def count_neg(value):\n",
    "\n",
    "    if value == -1:\n",
    "        return 1\n",
    "    else:\n",
    "        return 0\n",
    "\n",
    "def count_neu(value):\n",
    "\n",
    "    if value == 0:\n",
    "        return 1\n",
    "    else:\n",
    "        return 0\n"
   ]
  },
  {
   "cell_type": "code",
   "execution_count": 28,
   "metadata": {},
   "outputs": [],
   "source": [
    "df['Positive'] = df['Label'].apply(count_positive)\n",
    "df['Negative'] = df['Label'].apply(count_neg)\n",
    "df['Neutral'] = df['Label'].apply(count_neu)"
   ]
  },
  {
   "cell_type": "code",
   "execution_count": 29,
   "metadata": {},
   "outputs": [],
   "source": [
    "df_score = df.groupby(df.index).agg({\n",
    "    'Score': 'mean',\n",
    "    'Positive': 'sum',\n",
    "    'Negative': 'sum',\n",
    "    'Neutral': 'sum'\n",
    "})"
   ]
  },
  {
   "cell_type": "code",
   "execution_count": 30,
   "metadata": {},
   "outputs": [],
   "source": [
    "df_score['Total_Sentiment'] = df_score.apply(lambda row: row['Positive'] - row['Negative']/(row['Positive'] + row['Negative'] + row['Neutral']), axis=1)"
   ]
  },
  {
   "cell_type": "code",
   "execution_count": 31,
   "metadata": {},
   "outputs": [
    {
     "data": {
      "application/vnd.microsoft.datawrangler.viewer.v0+json": {
       "columns": [
        {
         "name": "Date",
         "rawType": "object",
         "type": "unknown"
        },
        {
         "name": "Score",
         "rawType": "float64",
         "type": "float"
        },
        {
         "name": "Positive",
         "rawType": "int64",
         "type": "integer"
        },
        {
         "name": "Negative",
         "rawType": "int64",
         "type": "integer"
        },
        {
         "name": "Neutral",
         "rawType": "int64",
         "type": "integer"
        },
        {
         "name": "Total_Sentiment",
         "rawType": "float64",
         "type": "float"
        }
       ],
       "conversionMethod": "pd.DataFrame",
       "ref": "11e0bafe-02d4-49f1-a7ee-93c2ead770ef",
       "rows": [
        [
         "2025-02-27",
         "0.7920294236846086",
         "17",
         "11",
         "13",
         "16.73170731707317"
        ],
        [
         "2025-02-28",
         "0.840197584845803",
         "7",
         "8",
         "7",
         "6.636363636363637"
        ],
        [
         "2025-03-01",
         "0.5990509986877441",
         "0",
         "0",
         "1",
         "0.0"
        ],
        [
         "2025-03-02",
         "0.8203182816505432",
         "1",
         "0",
         "1",
         "1.0"
        ],
        [
         "2025-03-03",
         "0.8040652998856136",
         "0",
         "2",
         "5",
         "-0.2857142857142857"
        ]
       ],
       "shape": {
        "columns": 5,
        "rows": 5
       }
      },
      "text/html": [
       "<div>\n",
       "<style scoped>\n",
       "    .dataframe tbody tr th:only-of-type {\n",
       "        vertical-align: middle;\n",
       "    }\n",
       "\n",
       "    .dataframe tbody tr th {\n",
       "        vertical-align: top;\n",
       "    }\n",
       "\n",
       "    .dataframe thead th {\n",
       "        text-align: right;\n",
       "    }\n",
       "</style>\n",
       "<table border=\"1\" class=\"dataframe\">\n",
       "  <thead>\n",
       "    <tr style=\"text-align: right;\">\n",
       "      <th></th>\n",
       "      <th>Score</th>\n",
       "      <th>Positive</th>\n",
       "      <th>Negative</th>\n",
       "      <th>Neutral</th>\n",
       "      <th>Total_Sentiment</th>\n",
       "    </tr>\n",
       "    <tr>\n",
       "      <th>Date</th>\n",
       "      <th></th>\n",
       "      <th></th>\n",
       "      <th></th>\n",
       "      <th></th>\n",
       "      <th></th>\n",
       "    </tr>\n",
       "  </thead>\n",
       "  <tbody>\n",
       "    <tr>\n",
       "      <th>2025-02-27</th>\n",
       "      <td>0.792029</td>\n",
       "      <td>17</td>\n",
       "      <td>11</td>\n",
       "      <td>13</td>\n",
       "      <td>16.731707</td>\n",
       "    </tr>\n",
       "    <tr>\n",
       "      <th>2025-02-28</th>\n",
       "      <td>0.840198</td>\n",
       "      <td>7</td>\n",
       "      <td>8</td>\n",
       "      <td>7</td>\n",
       "      <td>6.636364</td>\n",
       "    </tr>\n",
       "    <tr>\n",
       "      <th>2025-03-01</th>\n",
       "      <td>0.599051</td>\n",
       "      <td>0</td>\n",
       "      <td>0</td>\n",
       "      <td>1</td>\n",
       "      <td>0.000000</td>\n",
       "    </tr>\n",
       "    <tr>\n",
       "      <th>2025-03-02</th>\n",
       "      <td>0.820318</td>\n",
       "      <td>1</td>\n",
       "      <td>0</td>\n",
       "      <td>1</td>\n",
       "      <td>1.000000</td>\n",
       "    </tr>\n",
       "    <tr>\n",
       "      <th>2025-03-03</th>\n",
       "      <td>0.804065</td>\n",
       "      <td>0</td>\n",
       "      <td>2</td>\n",
       "      <td>5</td>\n",
       "      <td>-0.285714</td>\n",
       "    </tr>\n",
       "  </tbody>\n",
       "</table>\n",
       "</div>"
      ],
      "text/plain": [
       "               Score  Positive  Negative  Neutral  Total_Sentiment\n",
       "Date                                                              \n",
       "2025-02-27  0.792029        17        11       13        16.731707\n",
       "2025-02-28  0.840198         7         8        7         6.636364\n",
       "2025-03-01  0.599051         0         0        1         0.000000\n",
       "2025-03-02  0.820318         1         0        1         1.000000\n",
       "2025-03-03  0.804065         0         2        5        -0.285714"
      ]
     },
     "execution_count": 31,
     "metadata": {},
     "output_type": "execute_result"
    }
   ],
   "source": [
    "df_score.tail()"
   ]
  },
  {
   "cell_type": "code",
   "execution_count": 32,
   "metadata": {},
   "outputs": [
    {
     "name": "stdout",
     "output_type": "stream",
     "text": [
      "6\n"
     ]
    }
   ],
   "source": [
    "print(df_score.duplicated().sum())"
   ]
  },
  {
   "cell_type": "code",
   "execution_count": 33,
   "metadata": {},
   "outputs": [],
   "source": [
    "df_score.drop_duplicates(inplace=True)"
   ]
  },
  {
   "cell_type": "code",
   "execution_count": 34,
   "metadata": {},
   "outputs": [],
   "source": [
    "import mysql.connector as connector"
   ]
  },
  {
   "cell_type": "code",
   "execution_count": 35,
   "metadata": {},
   "outputs": [],
   "source": [
    "try:\n",
    "    conn = connector.connect(user='root', password='123456', host='localhost', port='3306', database='my_db')\n",
    "except connector.Error as er:\n",
    "    print('Error code:', er.errorno)\n",
    "    print('Error msg:', er.msg)\n",
    "\n",
    "mycursor = conn.cursor()"
   ]
  },
  {
   "cell_type": "code",
   "execution_count": 36,
   "metadata": {},
   "outputs": [],
   "source": [
    "\n",
    "mycursor.execute('SELECT * FROM stock_price')\n",
    "price =  mycursor.fetchall()"
   ]
  },
  {
   "cell_type": "code",
   "execution_count": 37,
   "metadata": {},
   "outputs": [],
   "source": [
    "df_price = pd.DataFrame(price, columns=['Date', 'Open',\t'High',\t'Low',\t'Close',\t'Volume',\t'Dividends',\t'Stock Splits'])"
   ]
  },
  {
   "cell_type": "code",
   "execution_count": 38,
   "metadata": {},
   "outputs": [
    {
     "data": {
      "application/vnd.microsoft.datawrangler.viewer.v0+json": {
       "columns": [
        {
         "name": "Date",
         "rawType": "object",
         "type": "unknown"
        },
        {
         "name": "Open",
         "rawType": "float64",
         "type": "float"
        },
        {
         "name": "High",
         "rawType": "float64",
         "type": "float"
        },
        {
         "name": "Low",
         "rawType": "float64",
         "type": "float"
        },
        {
         "name": "Close",
         "rawType": "float64",
         "type": "float"
        },
        {
         "name": "Volume",
         "rawType": "float64",
         "type": "float"
        },
        {
         "name": "Dividends",
         "rawType": "float64",
         "type": "float"
        },
        {
         "name": "Stock Splits",
         "rawType": "float64",
         "type": "float"
        }
       ],
       "conversionMethod": "pd.DataFrame",
       "ref": "307f0077-3847-493a-96ba-d5fbdd80bb48",
       "rows": [
        [
         "1999-01-22",
         "0.0401225",
         "0.0447794",
         "0.0355847",
         "0.0376152",
         "2714690000.0",
         "0.0",
         "0.0"
        ],
        [
         "1999-01-25",
         "0.0406003",
         "0.0420328",
         "0.0376152",
         "0.0415559",
         "510480000.0",
         "0.0",
         "0.0"
        ],
        [
         "1999-01-26",
         "0.0420328",
         "0.0428692",
         "0.0377344",
         "0.0383314",
         "343200000.0",
         "0.0",
         "0.0"
        ],
        [
         "1999-01-27",
         "0.0384506",
         "0.0394062",
         "0.036301",
         "0.0382122",
         "244368000.0",
         "0.0",
         "0.0"
        ],
        [
         "1999-01-28",
         "0.0382122",
         "0.0384506",
         "0.0378536",
         "0.038092",
         "227520000.0",
         "0.0",
         "0.0"
        ],
        [
         "1999-01-29",
         "0.038092",
         "0.0382122",
         "0.036301",
         "0.036301",
         "244032000.0",
         "0.0",
         "0.0"
        ],
        [
         "1999-02-01",
         "0.036301",
         "0.0372566",
         "0.036301",
         "0.0370181",
         "154704000.0",
         "0.0",
         "0.0"
        ],
        [
         "1999-02-02",
         "0.036301",
         "0.0372566",
         "0.0330774",
         "0.0341522",
         "264096000.0",
         "0.0",
         "0.0"
        ],
        [
         "1999-02-03",
         "0.0336745",
         "0.0353463",
         "0.0334351",
         "0.0348685",
         "75120000.0",
         "0.0",
         "0.0"
        ],
        [
         "1999-02-04",
         "0.0353463",
         "0.0377344",
         "0.0348685",
         "0.0367788",
         "181920000.0",
         "0.0",
         "0.0"
        ],
        [
         "1999-02-05",
         "0.0373758",
         "0.0382122",
         "0.0364211",
         "0.0378536",
         "136848000.0",
         "0.0",
         "0.0"
        ],
        [
         "1999-02-08",
         "0.038092",
         "0.0382122",
         "0.0365403",
         "0.0365403",
         "154080000.0",
         "0.0",
         "0.0"
        ],
        [
         "1999-02-09",
         "0.0372566",
         "0.037495",
         "0.0346291",
         "0.0351069",
         "86976000.0",
         "0.0",
         "0.0"
        ],
        [
         "1999-02-10",
         "0.0351069",
         "0.0360625",
         "0.0341522",
         "0.0347493",
         "148224000.0",
         "0.0",
         "0.0"
        ],
        [
         "1999-02-11",
         "0.0348685",
         "0.0391669",
         "0.0348685",
         "0.0377344",
         "132240000.0",
         "0.0",
         "0.0"
        ],
        [
         "1999-02-12",
         "0.0382122",
         "0.0401225",
         "0.0382122",
         "0.039884",
         "109728000.0",
         "0.0",
         "0.0"
        ],
        [
         "1999-02-16",
         "0.0406003",
         "0.0422721",
         "0.0360626",
         "0.0401225",
         "211008000.0",
         "0.0",
         "0.0"
        ],
        [
         "1999-02-17",
         "0.0391669",
         "0.0396447",
         "0.0372566",
         "0.0379728",
         "67728000.0",
         "0.0",
         "0.0"
        ],
        [
         "1999-02-18",
         "0.0391669",
         "0.0396447",
         "0.037495",
         "0.0385698",
         "70704000.0",
         "0.0",
         "0.0"
        ],
        [
         "1999-02-19",
         "0.0382122",
         "0.0406003",
         "0.0377344",
         "0.039884",
         "75360000.0",
         "0.0",
         "0.0"
        ],
        [
         "1999-02-22",
         "0.0406003",
         "0.0410781",
         "0.0379728",
         "0.0401225",
         "205248000.0",
         "0.0",
         "0.0"
        ],
        [
         "1999-02-23",
         "0.0410781",
         "0.0428691",
         "0.03869",
         "0.0420328",
         "138096000.0",
         "0.0",
         "0.0"
        ],
        [
         "1999-02-24",
         "0.0482424",
         "0.0501536",
         "0.0443017",
         "0.0453765",
         "612768000.0",
         "0.0",
         "0.0"
        ],
        [
         "1999-02-25",
         "0.0472877",
         "0.0487202",
         "0.0432268",
         "0.043944",
         "149136000.0",
         "0.0",
         "0.0"
        ],
        [
         "1999-02-26",
         "0.0444218",
         "0.0458543",
         "0.0415559",
         "0.0419136",
         "172608000.0",
         "0.0",
         "0.0"
        ],
        [
         "1999-03-01",
         "0.0429884",
         "0.043944",
         "0.0401225",
         "0.0421529",
         "92160000.0",
         "0.0",
         "0.0"
        ],
        [
         "1999-03-02",
         "0.0420328",
         "0.0422721",
         "0.0410781",
         "0.0417943",
         "55248000.0",
         "0.0",
         "0.0"
        ],
        [
         "1999-03-03",
         "0.0420328",
         "0.0420328",
         "0.03869",
         "0.0389284",
         "61392000.0",
         "0.0",
         "0.0"
        ],
        [
         "1999-03-04",
         "0.0408387",
         "0.0410781",
         "0.0377344",
         "0.038092",
         "57360000.0",
         "0.0",
         "0.0"
        ],
        [
         "1999-03-05",
         "0.0384506",
         "0.0403609",
         "0.0384506",
         "0.0402417",
         "78768000.0",
         "0.0",
         "0.0"
        ],
        [
         "1999-03-08",
         "0.0391669",
         "0.0420328",
         "0.0384506",
         "0.0408387",
         "75888000.0",
         "0.0",
         "0.0"
        ],
        [
         "1999-03-09",
         "0.0407195",
         "0.0427499",
         "0.0407195",
         "0.0421529",
         "143184000.0",
         "0.0",
         "0.0"
        ],
        [
         "1999-03-10",
         "0.0427499",
         "0.0427499",
         "0.0408387",
         "0.0414357",
         "235344000.0",
         "0.0",
         "0.0"
        ],
        [
         "1999-03-11",
         "0.0407195",
         "0.0414357",
         "0.0396447",
         "0.0396447",
         "54288000.0",
         "0.0",
         "0.0"
        ],
        [
         "1999-03-12",
         "0.039884",
         "0.039884",
         "0.0382122",
         "0.0389284",
         "90768000.0",
         "0.0",
         "0.0"
        ],
        [
         "1999-03-15",
         "0.039884",
         "0.0410781",
         "0.0396447",
         "0.0406003",
         "108816000.0",
         "0.0",
         "0.0"
        ],
        [
         "1999-03-16",
         "0.0408387",
         "0.0413165",
         "0.0389284",
         "0.039287",
         "79152000.0",
         "0.0",
         "0.0"
        ],
        [
         "1999-03-17",
         "0.0396447",
         "0.0403609",
         "0.0385698",
         "0.0395255",
         "51360000.0",
         "0.0",
         "0.0"
        ],
        [
         "1999-03-18",
         "0.0396447",
         "0.0406003",
         "0.03869",
         "0.0400032",
         "46320000.0",
         "0.0",
         "0.0"
        ],
        [
         "1999-03-19",
         "0.039884",
         "0.0413165",
         "0.039884",
         "0.0401225",
         "105312000.0",
         "0.0",
         "0.0"
        ],
        [
         "1999-03-22",
         "0.0409579",
         "0.0410781",
         "0.0389284",
         "0.0389284",
         "36672000.0",
         "0.0",
         "0.0"
        ],
        [
         "1999-03-23",
         "0.0391669",
         "0.0391669",
         "0.0358241",
         "0.0365403",
         "163968000.0",
         "0.0",
         "0.0"
        ],
        [
         "1999-03-24",
         "0.036301",
         "0.0365403",
         "0.0348685",
         "0.036301",
         "60864000.0",
         "0.0",
         "0.0"
        ],
        [
         "1999-03-25",
         "0.0361818",
         "0.0382122",
         "0.0360625",
         "0.0367788",
         "40320000.0",
         "0.0",
         "0.0"
        ],
        [
         "1999-03-26",
         "0.0372566",
         "0.0401225",
         "0.0372566",
         "0.0400032",
         "88272000.0",
         "0.0",
         "0.0"
        ],
        [
         "1999-03-29",
         "0.0411973",
         "0.0421529",
         "0.0404811",
         "0.0411973",
         "65952000.0",
         "0.0",
         "0.0"
        ],
        [
         "1999-03-30",
         "0.0413165",
         "0.0416751",
         "0.037495",
         "0.0377344",
         "69504000.0",
         "0.0",
         "0.0"
        ],
        [
         "1999-03-31",
         "0.0389284",
         "0.0408387",
         "0.0371374",
         "0.0403609",
         "153600000.0",
         "0.0",
         "0.0"
        ],
        [
         "1999-04-01",
         "0.0403609",
         "0.0406003",
         "0.0384506",
         "0.0391669",
         "30432000.0",
         "0.0",
         "0.0"
        ],
        [
         "1999-04-05",
         "0.03869",
         "0.0396447",
         "0.0377344",
         "0.0379728",
         "98640000.0",
         "0.0",
         "0.0"
        ]
       ],
       "shape": {
        "columns": 7,
        "rows": 6567
       }
      },
      "text/html": [
       "<div>\n",
       "<style scoped>\n",
       "    .dataframe tbody tr th:only-of-type {\n",
       "        vertical-align: middle;\n",
       "    }\n",
       "\n",
       "    .dataframe tbody tr th {\n",
       "        vertical-align: top;\n",
       "    }\n",
       "\n",
       "    .dataframe thead th {\n",
       "        text-align: right;\n",
       "    }\n",
       "</style>\n",
       "<table border=\"1\" class=\"dataframe\">\n",
       "  <thead>\n",
       "    <tr style=\"text-align: right;\">\n",
       "      <th></th>\n",
       "      <th>Open</th>\n",
       "      <th>High</th>\n",
       "      <th>Low</th>\n",
       "      <th>Close</th>\n",
       "      <th>Volume</th>\n",
       "      <th>Dividends</th>\n",
       "      <th>Stock Splits</th>\n",
       "    </tr>\n",
       "    <tr>\n",
       "      <th>Date</th>\n",
       "      <th></th>\n",
       "      <th></th>\n",
       "      <th></th>\n",
       "      <th></th>\n",
       "      <th></th>\n",
       "      <th></th>\n",
       "      <th></th>\n",
       "    </tr>\n",
       "  </thead>\n",
       "  <tbody>\n",
       "    <tr>\n",
       "      <th>1999-01-22</th>\n",
       "      <td>0.040122</td>\n",
       "      <td>0.044779</td>\n",
       "      <td>0.035585</td>\n",
       "      <td>0.037615</td>\n",
       "      <td>2.714690e+09</td>\n",
       "      <td>0.0</td>\n",
       "      <td>0.0</td>\n",
       "    </tr>\n",
       "    <tr>\n",
       "      <th>1999-01-25</th>\n",
       "      <td>0.040600</td>\n",
       "      <td>0.042033</td>\n",
       "      <td>0.037615</td>\n",
       "      <td>0.041556</td>\n",
       "      <td>5.104800e+08</td>\n",
       "      <td>0.0</td>\n",
       "      <td>0.0</td>\n",
       "    </tr>\n",
       "    <tr>\n",
       "      <th>1999-01-26</th>\n",
       "      <td>0.042033</td>\n",
       "      <td>0.042869</td>\n",
       "      <td>0.037734</td>\n",
       "      <td>0.038331</td>\n",
       "      <td>3.432000e+08</td>\n",
       "      <td>0.0</td>\n",
       "      <td>0.0</td>\n",
       "    </tr>\n",
       "    <tr>\n",
       "      <th>1999-01-27</th>\n",
       "      <td>0.038451</td>\n",
       "      <td>0.039406</td>\n",
       "      <td>0.036301</td>\n",
       "      <td>0.038212</td>\n",
       "      <td>2.443680e+08</td>\n",
       "      <td>0.0</td>\n",
       "      <td>0.0</td>\n",
       "    </tr>\n",
       "    <tr>\n",
       "      <th>1999-01-28</th>\n",
       "      <td>0.038212</td>\n",
       "      <td>0.038451</td>\n",
       "      <td>0.037854</td>\n",
       "      <td>0.038092</td>\n",
       "      <td>2.275200e+08</td>\n",
       "      <td>0.0</td>\n",
       "      <td>0.0</td>\n",
       "    </tr>\n",
       "    <tr>\n",
       "      <th>...</th>\n",
       "      <td>...</td>\n",
       "      <td>...</td>\n",
       "      <td>...</td>\n",
       "      <td>...</td>\n",
       "      <td>...</td>\n",
       "      <td>...</td>\n",
       "      <td>...</td>\n",
       "    </tr>\n",
       "    <tr>\n",
       "      <th>2025-02-24</th>\n",
       "      <td>136.560000</td>\n",
       "      <td>138.590000</td>\n",
       "      <td>130.080000</td>\n",
       "      <td>130.280000</td>\n",
       "      <td>2.513810e+08</td>\n",
       "      <td>0.0</td>\n",
       "      <td>0.0</td>\n",
       "    </tr>\n",
       "    <tr>\n",
       "      <th>2025-02-25</th>\n",
       "      <td>129.980000</td>\n",
       "      <td>130.200000</td>\n",
       "      <td>124.440000</td>\n",
       "      <td>126.630000</td>\n",
       "      <td>2.714290e+08</td>\n",
       "      <td>0.0</td>\n",
       "      <td>0.0</td>\n",
       "    </tr>\n",
       "    <tr>\n",
       "      <th>2025-02-26</th>\n",
       "      <td>129.990000</td>\n",
       "      <td>133.730000</td>\n",
       "      <td>128.490000</td>\n",
       "      <td>131.280000</td>\n",
       "      <td>3.225540e+08</td>\n",
       "      <td>0.0</td>\n",
       "      <td>0.0</td>\n",
       "    </tr>\n",
       "    <tr>\n",
       "      <th>2025-02-27</th>\n",
       "      <td>135.000000</td>\n",
       "      <td>135.010000</td>\n",
       "      <td>120.010000</td>\n",
       "      <td>120.150000</td>\n",
       "      <td>4.431760e+08</td>\n",
       "      <td>0.0</td>\n",
       "      <td>0.0</td>\n",
       "    </tr>\n",
       "    <tr>\n",
       "      <th>2025-02-28</th>\n",
       "      <td>118.020000</td>\n",
       "      <td>125.090000</td>\n",
       "      <td>116.400000</td>\n",
       "      <td>124.920000</td>\n",
       "      <td>3.881600e+08</td>\n",
       "      <td>0.0</td>\n",
       "      <td>0.0</td>\n",
       "    </tr>\n",
       "  </tbody>\n",
       "</table>\n",
       "<p>6567 rows × 7 columns</p>\n",
       "</div>"
      ],
      "text/plain": [
       "                  Open        High         Low       Close        Volume  \\\n",
       "Date                                                                       \n",
       "1999-01-22    0.040122    0.044779    0.035585    0.037615  2.714690e+09   \n",
       "1999-01-25    0.040600    0.042033    0.037615    0.041556  5.104800e+08   \n",
       "1999-01-26    0.042033    0.042869    0.037734    0.038331  3.432000e+08   \n",
       "1999-01-27    0.038451    0.039406    0.036301    0.038212  2.443680e+08   \n",
       "1999-01-28    0.038212    0.038451    0.037854    0.038092  2.275200e+08   \n",
       "...                ...         ...         ...         ...           ...   \n",
       "2025-02-24  136.560000  138.590000  130.080000  130.280000  2.513810e+08   \n",
       "2025-02-25  129.980000  130.200000  124.440000  126.630000  2.714290e+08   \n",
       "2025-02-26  129.990000  133.730000  128.490000  131.280000  3.225540e+08   \n",
       "2025-02-27  135.000000  135.010000  120.010000  120.150000  4.431760e+08   \n",
       "2025-02-28  118.020000  125.090000  116.400000  124.920000  3.881600e+08   \n",
       "\n",
       "            Dividends  Stock Splits  \n",
       "Date                                 \n",
       "1999-01-22        0.0           0.0  \n",
       "1999-01-25        0.0           0.0  \n",
       "1999-01-26        0.0           0.0  \n",
       "1999-01-27        0.0           0.0  \n",
       "1999-01-28        0.0           0.0  \n",
       "...               ...           ...  \n",
       "2025-02-24        0.0           0.0  \n",
       "2025-02-25        0.0           0.0  \n",
       "2025-02-26        0.0           0.0  \n",
       "2025-02-27        0.0           0.0  \n",
       "2025-02-28        0.0           0.0  \n",
       "\n",
       "[6567 rows x 7 columns]"
      ]
     },
     "execution_count": 38,
     "metadata": {},
     "output_type": "execute_result"
    }
   ],
   "source": [
    "df_price.set_index('Date', drop=True)"
   ]
  },
  {
   "cell_type": "code",
   "execution_count": 39,
   "metadata": {},
   "outputs": [
    {
     "name": "stdout",
     "output_type": "stream",
     "text": [
      "0\n"
     ]
    }
   ],
   "source": [
    "print(df_price.duplicated().sum())"
   ]
  },
  {
   "cell_type": "code",
   "execution_count": 40,
   "metadata": {},
   "outputs": [],
   "source": [
    "df_price.drop_duplicates(inplace=True)"
   ]
  },
  {
   "cell_type": "code",
   "execution_count": 41,
   "metadata": {},
   "outputs": [],
   "source": [
    "df_merge = df_price.merge(df_score, on = 'Date')"
   ]
  },
  {
   "cell_type": "code",
   "execution_count": 42,
   "metadata": {},
   "outputs": [],
   "source": [
    "df_merge.set_index('Date', drop=True, inplace=True)"
   ]
  },
  {
   "cell_type": "code",
   "execution_count": 43,
   "metadata": {},
   "outputs": [],
   "source": [
    "df_merge.to_csv('test.csv')"
   ]
  },
  {
   "cell_type": "code",
   "execution_count": 44,
   "metadata": {},
   "outputs": [
    {
     "data": {
      "text/plain": [
       "1602"
      ]
     },
     "execution_count": 44,
     "metadata": {},
     "output_type": "execute_result"
    }
   ],
   "source": [
    "len(df_merge)"
   ]
  },
  {
   "cell_type": "code",
   "execution_count": 45,
   "metadata": {},
   "outputs": [
    {
     "name": "stdout",
     "output_type": "stream",
     "text": [
      "0\n"
     ]
    }
   ],
   "source": [
    "print(df_merge.index.duplicated().sum())"
   ]
  },
  {
   "cell_type": "code",
   "execution_count": 46,
   "metadata": {},
   "outputs": [],
   "source": [
    "df_merge = df_merge[~df_merge.index.duplicated()]"
   ]
  },
  {
   "cell_type": "code",
   "execution_count": 47,
   "metadata": {},
   "outputs": [
    {
     "name": "stdout",
     "output_type": "stream",
     "text": [
      "0\n"
     ]
    }
   ],
   "source": [
    "print(df_merge.index.duplicated().sum())"
   ]
  },
  {
   "cell_type": "code",
   "execution_count": 48,
   "metadata": {},
   "outputs": [
    {
     "name": "stdout",
     "output_type": "stream",
     "text": [
      "Table 'stock_price' created successfully.\n"
     ]
    }
   ],
   "source": [
    "mycursor.execute(\"SHOW TABLES\")\n",
    "\n",
    "tables = [table[0] for table in mycursor.fetchall()]\n",
    "\n",
    "if 'price_sentiment' not in tables:\n",
    "    mycursor.execute(\"CREATE TABLE price_sentiment (Date DATE UNIQUE, Open FLOAT(24), High FLOAT(24), Low FLOAT(24), Close FLOAT(24), Volume FLOAT(24), Dividends FLOAT(24), Stock_Splits FLOAT(24), Score FLOAT(24), Positive\tINT, Negative INT,\tNeutral INT, \tTotal_Sentiment FLOAT(24))\")\n",
    "    print(\"Table 'stock_price' created successfully.\")\n",
    "else:\n",
    "    print(\"Table 'stock_price' already exists.\")\n"
   ]
  },
  {
   "cell_type": "code",
   "execution_count": 49,
   "metadata": {},
   "outputs": [],
   "source": [
    "sql = \"INSERT IGNORE INTO  price_sentiment (Date, Open, High, Low, Close, Volume, Dividends, Stock_Splits, Score,\tPositive,\tNegative,\tNeutral,\tTotal_Sentiment) VALUES (%s, %s, %s, %s, %s, %s, %s, %s, %s, %s, %s, %s, %s)\""
   ]
  },
  {
   "cell_type": "code",
   "execution_count": 50,
   "metadata": {},
   "outputs": [],
   "source": [
    "tuples_list = list(df_merge.itertuples(index=True, name=None))\n"
   ]
  },
  {
   "cell_type": "code",
   "execution_count": 51,
   "metadata": {},
   "outputs": [],
   "source": [
    "mycursor.executemany(sql, tuples_list)"
   ]
  },
  {
   "cell_type": "code",
   "execution_count": 52,
   "metadata": {},
   "outputs": [],
   "source": [
    "conn.commit()\n",
    "\n",
    "mycursor.close()\n",
    "conn.close()"
   ]
  }
 ],
 "metadata": {
  "kernelspec": {
   "display_name": "Python 3",
   "language": "python",
   "name": "python3"
  },
  "language_info": {
   "codemirror_mode": {
    "name": "ipython",
    "version": 3
   },
   "file_extension": ".py",
   "mimetype": "text/x-python",
   "name": "python",
   "nbconvert_exporter": "python",
   "pygments_lexer": "ipython3",
   "version": "3.10.0"
  }
 },
 "nbformat": 4,
 "nbformat_minor": 2
}
